{
 "cells": [
  {
   "cell_type": "markdown",
   "metadata": {},
   "source": "# GAN Modell zur Generierung von synthetischen Daten\n"
  },
  {
   "cell_type": "code",
   "metadata": {
    "ExecuteTime": {
     "end_time": "2024-06-13T16:47:02.103867Z",
     "start_time": "2024-06-13T16:46:57.802929Z"
    }
   },
   "source": [
    "# Import necessary libraries\n",
    "import tensorflow as tf\n",
    "from tensorflow.keras import layers\n",
    "import numpy as np\n",
    "import pandas as pd\n",
    "from sklearn.preprocessing import MinMaxScaler\n",
    "import matplotlib.pyplot as plt\n",
    "from tensorflow.keras import Sequential\n",
    "from tensorflow.keras.layers import Input, Dense, LeakyReLU, Dropout, BatchNormalization\n",
    "from tensorflow.keras.optimizers import Adam\n"
   ],
   "outputs": [],
   "execution_count": 1
  },
  {
   "cell_type": "markdown",
   "metadata": {},
   "source": [
    "## Data Preparation"
   ]
  },
  {
   "cell_type": "code",
   "metadata": {
    "ExecuteTime": {
     "end_time": "2024-06-13T16:47:02.117875Z",
     "start_time": "2024-06-13T16:47:02.104747Z"
    }
   },
   "source": [
    "# Beispiel Daten laden\n",
    "data = pd.read_csv('./../Data/preprocessed_df_v2.csv') # Pfad zu Ihren Daten\n",
    "\n",
    "print(data.head())\n",
    "\n",
    "# Auffüllen von NaN-Werten mit dem Mittelwert der jeweiligen Spalte\n",
    "data = data.fillna(data.mean())\n",
    "\n",
    "# Überprüfen auf NaN-Werte in den Daten\n",
    "assert not np.any(np.isnan(data)), \"Daten enthalten NaN-Werte\"\n"
   ],
   "outputs": [
    {
     "name": "stdout",
     "output_type": "stream",
     "text": [
      "   participant_id  test_id  test_duration  mental  physical  temporal  \\\n",
      "0               1        1      33.643950      10         5        15   \n",
      "1               1        2      28.484322      50        30        25   \n",
      "2               1        3      71.423823     100        10        75   \n",
      "3               1        4      38.163442      60        15        45   \n",
      "4               2        1      41.748047      20        10        20   \n",
      "\n",
      "   performance  effort  frustration  mean  ...  blinkrate  fixationrate  \\\n",
      "0           25      25           10  15.0  ...   0.059446      0.295946   \n",
      "1           50      15           25  32.5  ...   0.000000      0.175533   \n",
      "2           80      90           20  62.5  ...   0.196013      0.196018   \n",
      "3           50      20           25  35.8  ...   0.052406      0.288263   \n",
      "4           10      20           15  15.8  ...   0.047906      0.143727   \n",
      "\n",
      "   blinkrate_rel  blinkrate_rel_pct  fixationrate_rel  fixationrate_rel_pct  \\\n",
      "0       0.000000           0.000000          0.000000              0.000000   \n",
      "1      -0.059446        -100.000000         -0.120413            -40.687440   \n",
      "2       0.136567         229.732630         -0.099928            -33.765546   \n",
      "3      -0.007040         -11.842464         -0.007684             -2.596309   \n",
      "4       0.000000           0.000000          0.000000              0.000000   \n",
      "\n",
      "   mean_pupil_diameter_rel  mean_pupil_diameter_rel_pct  \\\n",
      "0                 0.000000                     0.000000   \n",
      "1                -0.919996                    -2.097788   \n",
      "2                 0.848925                     1.935731   \n",
      "3                 1.906622                     4.347507   \n",
      "4                 0.000000                     0.000000   \n",
      "\n",
      "   median_pupil_diameter_rel  median_pupil_diameter_rel_pct  \n",
      "0                   0.000000                       0.000000  \n",
      "1                  -0.872377                      -1.987465  \n",
      "2                   0.897654                       2.045050  \n",
      "3                   1.951494                       4.445927  \n",
      "4                   0.000000                       0.000000  \n",
      "\n",
      "[5 rows x 22 columns]\n"
     ]
    }
   ],
   "execution_count": 2
  },
  {
   "metadata": {
    "ExecuteTime": {
     "end_time": "2024-06-13T16:47:02.122190Z",
     "start_time": "2024-06-13T16:47:02.118440Z"
    }
   },
   "cell_type": "code",
   "source": [
    "# Daten skalieren\n",
    "scaler = MinMaxScaler(feature_range=(-1, 1))\n",
    "data_scaled = scaler.fit_transform(data)\n",
    "\n",
    "# GAN-Parameter\n",
    "latent_dim = 100\n",
    "data_dim = data_scaled.shape[1]"
   ],
   "outputs": [],
   "execution_count": 3
  },
  {
   "cell_type": "markdown",
   "metadata": {},
   "source": "## GAN Definition"
  },
  {
   "cell_type": "code",
   "metadata": {
    "ExecuteTime": {
     "end_time": "2024-06-13T16:47:02.127151Z",
     "start_time": "2024-06-13T16:47:02.123545Z"
    }
   },
   "source": [
    "# Generator-Modell\n",
    "def build_generator(latent_dim, data_dim):\n",
    "    model = tf.keras.Sequential()\n",
    "    model.add(tf.keras.Input(shape=(latent_dim,)))\n",
    "    model.add(tf.keras.layers.Dense(128))\n",
    "    model.add(tf.keras.layers.LeakyReLU(negative_slope=0.2))\n",
    "    model.add(tf.keras.layers.Dense(256))\n",
    "    model.add(tf.keras.layers.LeakyReLU(negative_slope=0.2))\n",
    "    model.add(tf.keras.layers.Dense(512))\n",
    "    model.add(tf.keras.layers.LeakyReLU(negative_slope=0.2))\n",
    "    model.add(tf.keras.layers.Dense(data_dim, activation='tanh'))\n",
    "    return model\n",
    "\n",
    "# Diskriminator-Modell\n",
    "def build_discriminator(data_dim):\n",
    "    model = tf.keras.Sequential()\n",
    "    model.add(tf.keras.Input(shape=(data_dim,)))\n",
    "    model.add(tf.keras.layers.Dense(512))\n",
    "    model.add(tf.keras.layers.LeakyReLU(negative_slope=0.2))\n",
    "    model.add(tf.keras.layers.Dense(256))\n",
    "    model.add(tf.keras.layers.LeakyReLU(negative_slope=0.2))\n",
    "    model.add(tf.keras.layers.Dense(128))\n",
    "    model.add(tf.keras.layers.LeakyReLU(negative_slope=0.2))\n",
    "    model.add(tf.keras.layers.Dense(1, activation='sigmoid'))\n",
    "    return model\n",
    "\n",
    "# GAN-Modell\n",
    "def build_gan(generator, discriminator):\n",
    "    model = Sequential()\n",
    "    model.add(generator)\n",
    "    model.add(discriminator)\n",
    "    return model"
   ],
   "outputs": [],
   "execution_count": 4
  },
  {
   "cell_type": "code",
   "metadata": {
    "ExecuteTime": {
     "end_time": "2024-06-13T16:47:02.359392Z",
     "start_time": "2024-06-13T16:47:02.127915Z"
    }
   },
   "source": [
    "# Modelle erstellen\n",
    "\n",
    "learning_rate_discriminator = 0.00005\n",
    "learning_rate_generator = 0.0001\n",
    "\n",
    "generator = build_generator(latent_dim, data_dim)\n",
    "discriminator = build_discriminator(data_dim)\n",
    "discriminator.compile(optimizer=Adam(learning_rate_discriminator, 0.5), loss='binary_crossentropy', metrics=['accuracy'])\n",
    "\n",
    "discriminator.trainable = False\n",
    "gan = build_gan(generator, discriminator)\n",
    "gan.compile(optimizer=Adam(learning_rate_generator, 0.5), loss='binary_crossentropy')\n",
    "\n",
    "# Trainingsdaten\n",
    "real = data_scaled\n",
    "real_labels = np.ones((real.shape[0], 1))\n",
    "fake_labels = np.zeros((real.shape[0], 1))"
   ],
   "outputs": [
    {
     "name": "stderr",
     "output_type": "stream",
     "text": [
      "2024-06-13 18:47:02.134650: I metal_plugin/src/device/metal_device.cc:1154] Metal device set to: Apple M2 Max\n",
      "2024-06-13 18:47:02.134673: I metal_plugin/src/device/metal_device.cc:296] systemMemory: 64.00 GB\n",
      "2024-06-13 18:47:02.134684: I metal_plugin/src/device/metal_device.cc:313] maxCacheSize: 24.00 GB\n",
      "2024-06-13 18:47:02.134852: I tensorflow/core/common_runtime/pluggable_device/pluggable_device_factory.cc:305] Could not identify NUMA node of platform GPU ID 0, defaulting to 0. Your kernel may not have been built with NUMA support.\n",
      "2024-06-13 18:47:02.134865: I tensorflow/core/common_runtime/pluggable_device/pluggable_device_factory.cc:271] Created TensorFlow device (/job:localhost/replica:0/task:0/device:GPU:0 with 0 MB memory) -> physical PluggableDevice (device: 0, name: METAL, pci bus id: <undefined>)\n"
     ]
    }
   ],
   "execution_count": 5
  },
  {
   "cell_type": "markdown",
   "metadata": {},
   "source": [
    "## Training"
   ]
  },
  {
   "cell_type": "code",
   "metadata": {
    "ExecuteTime": {
     "end_time": "2024-06-13T16:47:08.904302Z",
     "start_time": "2024-06-13T16:47:02.359980Z"
    }
   },
   "source": [
    "# GAN-Training\n",
    "epochs = 10\n",
    "batch_size = 32\n",
    "\n",
    "d_losses = []\n",
    "g_losses = []\n",
    "\n",
    "for epoch in range(epochs):\n",
    "    # Zufällige Samples von realen Daten\n",
    "    idx = np.random.randint(0, real.shape[0], batch_size)\n",
    "    real_samples = real[idx]\n",
    "    \n",
    "    # Zufälliges Rauschen und Fake-Daten generieren\n",
    "    noise = np.random.normal(0, 1, (batch_size, latent_dim))\n",
    "    fake_samples = generator.predict(noise)\n",
    "    \n",
    "    # Diskriminator trainieren\n",
    "    d_loss_real = discriminator.train_on_batch(real_samples, real_labels[:batch_size])\n",
    "    d_loss_fake = discriminator.train_on_batch(fake_samples, fake_labels[:batch_size])\n",
    "    d_loss = 0.5 * np.add(d_loss_real, d_loss_fake)\n",
    "    \n",
    "    # GAN trainieren\n",
    "    noise = np.random.normal(0, 1, (batch_size, latent_dim))\n",
    "    g_loss = gan.train_on_batch(noise, real_labels[:batch_size])\n",
    "    \n",
    "    # Verluste speichern\n",
    "    d_losses.append(d_loss[0])\n",
    "    g_losses.append(g_loss)\n",
    "    \n",
    "    # Fortschritt ausgeben\n",
    "    if epoch % 1000 == 0:\n",
    "        print(f\"{epoch} [D loss: {d_loss[0]}, acc.: {100*d_loss[1]}%] [G loss: {g_loss}]\")\n",
    "\n",
    "print(\"Training abgeschlossen!\")\n",
    "print(f\"{epochs} [D loss: {d_loss[0]}, acc.: {100*d_loss[1]}%] [G loss: {g_loss}]\")"
   ],
   "outputs": [
    {
     "name": "stdout",
     "output_type": "stream",
     "text": [
      "\u001B[1m1/1\u001B[0m \u001B[32m━━━━━━━━━━━━━━━━━━━━\u001B[0m\u001B[37m\u001B[0m \u001B[1m0s\u001B[0m 72ms/step\n"
     ]
    },
    {
     "name": "stderr",
     "output_type": "stream",
     "text": [
      "2024-06-13 18:47:02.424040: I tensorflow/core/grappler/optimizers/custom_graph_optimizer_registry.cc:117] Plugin optimizer for device_type GPU is enabled.\n",
      "/Users/hennerbendig/anaconda3/envs/tf_311/lib/python3.11/site-packages/keras/src/backend/tensorflow/trainer.py:71: UserWarning: The model does not have any trainable weights.\n",
      "  warnings.warn(\"The model does not have any trainable weights.\")\n"
     ]
    },
    {
     "name": "stdout",
     "output_type": "stream",
     "text": [
      "0 [D loss: 0.6803096532821655, acc.: 77.34375%] [G loss: [array(0.68312067, dtype=float32), array(0.68312067, dtype=float32), array(0.734375, dtype=float32)]]\n",
      "\u001B[1m1/1\u001B[0m \u001B[32m━━━━━━━━━━━━━━━━━━━━\u001B[0m\u001B[37m\u001B[0m \u001B[1m0s\u001B[0m 7ms/step\n",
      "WARNING:tensorflow:5 out of the last 5 calls to <function TensorFlowTrainer.make_train_function.<locals>.one_step_on_iterator at 0x30f5f3ce0> triggered tf.function retracing. Tracing is expensive and the excessive number of tracings could be due to (1) creating @tf.function repeatedly in a loop, (2) passing tensors with different shapes, (3) passing Python objects instead of tensors. For (1), please define your @tf.function outside of the loop. For (2), @tf.function has reduce_retracing=True option that can avoid unnecessary retracing. For (3), please refer to https://www.tensorflow.org/guide/function#controlling_retracing and https://www.tensorflow.org/api_docs/python/tf/function for  more details.\n",
      "WARNING:tensorflow:6 out of the last 6 calls to <function TensorFlowTrainer.make_train_function.<locals>.one_step_on_iterator at 0x30f667560> triggered tf.function retracing. Tracing is expensive and the excessive number of tracings could be due to (1) creating @tf.function repeatedly in a loop, (2) passing tensors with different shapes, (3) passing Python objects instead of tensors. For (1), please define your @tf.function outside of the loop. For (2), @tf.function has reduce_retracing=True option that can avoid unnecessary retracing. For (3), please refer to https://www.tensorflow.org/guide/function#controlling_retracing and https://www.tensorflow.org/api_docs/python/tf/function for  more details.\n",
      "\u001B[1m1/1\u001B[0m \u001B[32m━━━━━━━━━━━━━━━━━━━━\u001B[0m\u001B[37m\u001B[0m \u001B[1m0s\u001B[0m 7ms/step\n",
      "\u001B[1m1/1\u001B[0m \u001B[32m━━━━━━━━━━━━━━━━━━━━\u001B[0m\u001B[37m\u001B[0m \u001B[1m0s\u001B[0m 7ms/step\n",
      "\u001B[1m1/1\u001B[0m \u001B[32m━━━━━━━━━━━━━━━━━━━━\u001B[0m\u001B[37m\u001B[0m \u001B[1m0s\u001B[0m 7ms/step\n",
      "\u001B[1m1/1\u001B[0m \u001B[32m━━━━━━━━━━━━━━━━━━━━\u001B[0m\u001B[37m\u001B[0m \u001B[1m0s\u001B[0m 7ms/step\n",
      "\u001B[1m1/1\u001B[0m \u001B[32m━━━━━━━━━━━━━━━━━━━━\u001B[0m\u001B[37m\u001B[0m \u001B[1m0s\u001B[0m 6ms/step\n",
      "\u001B[1m1/1\u001B[0m \u001B[32m━━━━━━━━━━━━━━━━━━━━\u001B[0m\u001B[37m\u001B[0m \u001B[1m0s\u001B[0m 7ms/step\n",
      "\u001B[1m1/1\u001B[0m \u001B[32m━━━━━━━━━━━━━━━━━━━━\u001B[0m\u001B[37m\u001B[0m \u001B[1m0s\u001B[0m 6ms/step\n",
      "\u001B[1m1/1\u001B[0m \u001B[32m━━━━━━━━━━━━━━━━━━━━\u001B[0m\u001B[37m\u001B[0m \u001B[1m0s\u001B[0m 7ms/step\n",
      "Training abgeschlossen!\n",
      "10 [D loss: 0.697899580001831, acc.: 45.22203803062439%] [G loss: [array(0.69937193, dtype=float32), array(0.69937193, dtype=float32), array(0.440625, dtype=float32)]]\n"
     ]
    }
   ],
   "execution_count": 6
  },
  {
   "cell_type": "code",
   "metadata": {
    "ExecuteTime": {
     "end_time": "2024-06-13T16:47:09.013400Z",
     "start_time": "2024-06-13T16:47:08.905032Z"
    }
   },
   "source": [
    "# Verlustkurven plotten\n",
    "plt.figure(figsize=(10, 5))\n",
    "plt.plot(d_losses, label=\"Discriminator Loss\")\n",
    "plt.plot(g_losses, label=\"Generator Loss\")\n",
    "plt.xlabel(\"Epochs\")\n",
    "plt.ylabel(\"Loss\")\n",
    "plt.legend()\n",
    "plt.title(\"GAN Loss Curves\")\n",
    "plt.show()"
   ],
   "outputs": [
    {
     "data": {
      "text/plain": [
       "<Figure size 1000x500 with 1 Axes>"
      ],
      "image/png": "[encoded data removed]"
     },
     "metadata": {},
     "output_type": "display_data"
    }
   ],
   "execution_count": 7
  },
  {
   "cell_type": "markdown",
   "metadata": {},
   "source": [
    "## Daten generieren"
   ]
  },
  {
   "cell_type": "markdown",
   "metadata": {},
   "source": []
  },
  {
   "cell_type": "code",
   "metadata": {
    "ExecuteTime": {
     "end_time": "2024-06-13T16:47:09.226925Z",
     "start_time": "2024-06-13T16:47:09.014008Z"
    }
   },
   "source": [
    "# Generieren von zusätzlichen Datenpunkten nach dem Training\n",
    "num_additional_points = 1000\n",
    "noise = np.random.normal(0, 1, (num_additional_points, latent_dim))\n",
    "synthetic_data_scaled = generator.predict(noise)\n",
    "\n",
    "# Die generierten Daten zurückskalieren auf den ursprünglichen Wertebereich\n",
    "synthetic_data = scaler.inverse_transform(synthetic_data_scaled)\n",
    "\n",
    "# Die generierten Daten mit den Originaldaten kombinieren\n",
    "augmented_data = np.vstack((data, synthetic_data))\n",
    "\n",
    "# Optional: Konvertieren Sie die Daten in ein TensorFlow-Dataset\n",
    "dataset = tf.data.Dataset.from_tensor_slices(augmented_data)\n",
    "\n",
    "print(\"Original Data Shape:\", data.shape)\n",
    "print(\"Synthetic Data Shape:\", synthetic_data.shape)\n",
    "print(\"Augmented Data Shape:\", augmented_data.shape)"
   ],
   "outputs": [
    {
     "name": "stdout",
     "output_type": "stream",
     "text": [
      "\u001B[1m32/32\u001B[0m \u001B[32m━━━━━━━━━━━━━━━━━━━━\u001B[0m\u001B[37m\u001B[0m \u001B[1m0s\u001B[0m 3ms/step\n",
      "Original Data Shape: (188, 22)\n",
      "Synthetic Data Shape: (1000, 22)\n",
      "Augmented Data Shape: (1188, 22)\n"
     ]
    }
   ],
   "execution_count": 8
  },
  {
   "cell_type": "code",
   "metadata": {
    "ExecuteTime": {
     "end_time": "2024-06-13T16:47:09.231658Z",
     "start_time": "2024-06-13T16:47:09.227588Z"
    }
   },
   "source": [
    "# Ausgewählte Datenpunkte plotten\n",
    "synthetic_data = pd.DataFrame(synthetic_data, columns=data.columns)\n",
    "print(\"Synthetic Data\")\n",
    "print(synthetic_data[:5])"
   ],
   "outputs": [
    {
     "name": "stdout",
     "output_type": "stream",
     "text": [
      "Synthetic Data\n",
      "   participant_id   test_id  test_duration     mental   physical   temporal  \\\n",
      "0       18.604145  1.980455    5192.609863  48.277180  69.355309  67.657829   \n",
      "1       26.610748  2.283609    5397.325195  33.910423  67.354424  83.551407   \n",
      "2       12.054751  2.045084    6203.113770  48.705391  69.932304  81.667206   \n",
      "3       16.320562  2.099850    5127.345703  20.410112  41.494133  70.428001   \n",
      "4       19.988539  2.168063    4151.083008  51.340275  55.324356  73.557159   \n",
      "\n",
      "   performance     effort  frustration       mean  ...  blinkrate  \\\n",
      "0    34.416561  25.330894    55.587761  51.589340  ...   0.372338   \n",
      "1    39.801422  16.528912    60.359955  54.777393  ...   0.262484   \n",
      "2    68.163948  17.746389    28.263319  60.628716  ...   0.232626   \n",
      "3    41.961208  23.008657    42.368271  45.790707  ...   0.160717   \n",
      "4    41.581596  34.635506    43.945049  50.468540  ...   0.251374   \n",
      "\n",
      "   fixationrate  blinkrate_rel  blinkrate_rel_pct  fixationrate_rel  \\\n",
      "0      0.243377       0.410716        1331.422607          0.123307   \n",
      "1      0.336529       0.127369        1796.380005          0.214355   \n",
      "2      0.297129       0.328795         950.927612          0.133367   \n",
      "3      0.264474       0.253269        1436.716309          0.133005   \n",
      "4      0.271703       0.386407        1715.358521          0.125740   \n",
      "\n",
      "   fixationrate_rel_pct  mean_pupil_diameter_rel  mean_pupil_diameter_rel_pct  \\\n",
      "0             12.364457                 3.351243                     5.450891   \n",
      "1             -8.448501                 3.916085                    10.137338   \n",
      "2              7.290651                 1.027389                     3.472132   \n",
      "3             79.319984                 1.042124                    10.235547   \n",
      "4             11.545831                 1.364834                    10.047632   \n",
      "\n",
      "   median_pupil_diameter_rel  median_pupil_diameter_rel_pct  \n",
      "0                   3.411078                      10.540519  \n",
      "1                   4.911431                      19.198029  \n",
      "2                   3.412606                      16.563303  \n",
      "3                   3.631311                       7.237407  \n",
      "4                   3.759294                      12.345086  \n",
      "\n",
      "[5 rows x 22 columns]\n"
     ]
    }
   ],
   "execution_count": 9
  }
 ],
 "metadata": {
  "kernelspec": {
   "display_name": "Python 3 (ipykernel)",
   "language": "python",
   "name": "python3"
  },
  "language_info": {
   "codemirror_mode": {
    "name": "ipython",
    "version": 3
   },
   "file_extension": ".py",
   "mimetype": "text/x-python",
   "name": "python",
   "nbconvert_exporter": "python",
   "pygments_lexer": "ipython3",
   "version": "3.9.18"
  }
 },
 "nbformat": 4,
 "nbformat_minor": 4
}
