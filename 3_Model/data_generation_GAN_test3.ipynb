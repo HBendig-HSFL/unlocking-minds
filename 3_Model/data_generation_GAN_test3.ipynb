{
 "cells": [
  {
   "cell_type": "markdown",
   "metadata": {},
   "source": [
    "# Model Definition and Evaluation\n",
    "## Table of Contents\n",
    "1. [Model Selection](#model-selection)\n",
    "2. [Feature Engineering](#feature-engineering)\n",
    "3. [Hyperparameter Tuning](#hyperparameter-tuning)\n",
    "4. [Implementation](#implementation)\n",
    "5. [Evaluation Metrics](#evaluation-metrics)\n",
    "6. [Comparative Analysis](#comparative-analysis)\n"
   ]
  },
  {
   "cell_type": "code",
   "metadata": {
    "ExecuteTime": {
     "end_time": "2024-06-13T05:39:19.219365Z",
     "start_time": "2024-06-13T05:39:17.238571Z"
    }
   },
   "source": [
    "# Import necessary libraries\n",
    "import tensorflow as tf\n",
    "from tensorflow.keras import layers\n",
    "import numpy as np\n",
    "import pandas as pd\n",
    "from sklearn.preprocessing import MinMaxScaler\n",
    "import matplotlib.pyplot as plt\n",
    "from tensorflow.keras import Sequential\n",
    "from tensorflow.keras.layers import Input, Dense, LeakyReLU, Dropout\n",
    "from keras.src.optimizers import Adam\n",
    "\n"
   ],
   "outputs": [],
   "execution_count": 1
  },
  {
   "cell_type": "markdown",
   "metadata": {},
   "source": [
    "## Data Preparation"
   ]
  },
  {
   "cell_type": "code",
   "metadata": {
    "ExecuteTime": {
     "end_time": "2024-06-13T05:39:19.226590Z",
     "start_time": "2024-06-13T05:39:19.220463Z"
    }
   },
   "source": [
    "# Beispiel Daten laden\n",
    "data = pd.read_csv('./../Data/preprocessed_df.csv') # Pfad zu Ihren Daten\n",
    "\n",
    "print(data.head())\n",
    "\n",
    "# Daten skalieren\n",
    "scaler = MinMaxScaler()\n",
    "data_scaled = scaler.fit_transform(data)\n",
    "\n",
    "# GAN-Parameter\n",
    "latent_dim = 100\n",
    "data_dim = data_scaled.shape[1]"
   ],
   "outputs": [
    {
     "name": "stdout",
     "output_type": "stream",
     "text": [
      "   participant_id  test_id  test_duration  mental  physical  temporal  \\\n",
      "0               1        1      33.643950      10         5        15   \n",
      "1               1        2      28.484322      50        30        25   \n",
      "2               1        3      71.423823     100        10        75   \n",
      "3               1        4      38.163442      60        15        45   \n",
      "4               2        1      41.748047      20        10        20   \n",
      "\n",
      "   performance  effort  frustration  mean  mean_pupil_diameter  \\\n",
      "0           25      25           10  15.0            43.855534   \n",
      "1           50      15           25  32.5            42.935538   \n",
      "2           80      90           20  62.5            44.704459   \n",
      "3           50      20           25  35.8            45.762156   \n",
      "4           10      20           15  15.8            31.492393   \n",
      "\n",
      "   median_pupil_diameter  blinkrate  fixationrate  \n",
      "0              43.893976   0.059446      0.295946  \n",
      "1              43.021599        NaN      0.175533  \n",
      "2              44.791630   0.196013      0.196018  \n",
      "3              45.845470   0.052406      0.288263  \n",
      "4              31.393101   0.047906      0.143727  \n"
     ]
    }
   ],
   "execution_count": 2
  },
  {
   "cell_type": "markdown",
   "metadata": {},
   "source": [
    "## GAN Definition"
   ]
  },
  {
   "cell_type": "code",
   "metadata": {
    "ExecuteTime": {
     "end_time": "2024-06-13T05:39:19.229268Z",
     "start_time": "2024-06-13T05:39:19.227235Z"
    }
   },
   "source": [
    "# Generator-Modell\n",
    "def build_generator(latent_dim, data_dim):\n",
    "    model = Sequential()\n",
    "    model.add(Dense(128, input_dim=latent_dim))\n",
    "    model.add(LeakyReLU(alpha=0.2))\n",
    "    model.add(Dense(256))\n",
    "    model.add(LeakyReLU(alpha=0.2))\n",
    "    model.add(Dense(512))\n",
    "    model.add(LeakyReLU(alpha=0.2))\n",
    "    model.add(Dense(data_dim, activation='tanh'))\n",
    "    return model\n"
   ],
   "outputs": [],
   "execution_count": 3
  },
  {
   "cell_type": "markdown",
   "metadata": {},
   "source": [
    "## Discriminator Definition"
   ]
  },
  {
   "cell_type": "code",
   "metadata": {
    "ExecuteTime": {
     "end_time": "2024-06-13T05:39:19.231840Z",
     "start_time": "2024-06-13T05:39:19.229790Z"
    }
   },
   "source": [
    "def build_discriminator(data_dim):\n",
    "    model = Sequential()\n",
    "    model.add(Dense(512, input_dim=data_dim))\n",
    "    model.add(LeakyReLU(alpha=0.2))\n",
    "    model.add(Dense(256))\n",
    "    model.add(LeakyReLU(alpha=0.2))\n",
    "    model.add(Dense(128))\n",
    "    model.add(LeakyReLU(alpha=0.2))\n",
    "    model.add(Dense(1, activation='sigmoid'))\n",
    "    return model"
   ],
   "outputs": [],
   "execution_count": 4
  },
  {
   "metadata": {},
   "cell_type": "markdown",
   "source": "## Build Model"
  },
  {
   "metadata": {
    "ExecuteTime": {
     "end_time": "2024-06-13T05:39:19.234482Z",
     "start_time": "2024-06-13T05:39:19.233070Z"
    }
   },
   "cell_type": "code",
   "source": [
    "# GAN-Modell\n",
    "def build_gan(generator, discriminator):\n",
    "    model = Sequential()\n",
    "    model.add(generator)\n",
    "    model.add(discriminator)\n",
    "    return model"
   ],
   "outputs": [],
   "execution_count": 5
  },
  {
   "cell_type": "code",
   "metadata": {
    "ExecuteTime": {
     "end_time": "2024-06-13T05:39:19.444079Z",
     "start_time": "2024-06-13T05:39:19.234898Z"
    }
   },
   "source": [
    "# Modelle erstellen\n",
    "\n",
    "generator = build_generator(latent_dim, data_dim)\n",
    "discriminator = build_discriminator(data_dim)\n",
    "discriminator.compile(optimizer=Adam(0.0002, 0.5), loss='binary_crossentropy', metrics=['accuracy'])\n",
    "\n",
    "discriminator.trainable = False\n",
    "gan = build_gan(generator, discriminator)\n",
    "gan.compile(optimizer=Adam(0.0002, 0.5), loss='binary_crossentropy')\n",
    "\n",
    "# Trainingsdaten\n",
    "real = data_scaled\n",
    "real_labels = np.ones((real.shape[0], 1))\n",
    "fake_labels = np.zeros((real.shape[0], 1))"
   ],
   "outputs": [
    {
     "name": "stderr",
     "output_type": "stream",
     "text": [
      "/Users/hennerbendig/anaconda3/envs/tf_311/lib/python3.11/site-packages/keras/src/layers/core/dense.py:87: UserWarning: Do not pass an `input_shape`/`input_dim` argument to a layer. When using Sequential models, prefer using an `Input(shape)` object as the first layer in the model instead.\n",
      "  super().__init__(activity_regularizer=activity_regularizer, **kwargs)\n",
      "2024-06-13 07:39:19.238949: I metal_plugin/src/device/metal_device.cc:1154] Metal device set to: Apple M2 Max\n",
      "2024-06-13 07:39:19.238967: I metal_plugin/src/device/metal_device.cc:296] systemMemory: 64.00 GB\n",
      "2024-06-13 07:39:19.238972: I metal_plugin/src/device/metal_device.cc:313] maxCacheSize: 24.00 GB\n",
      "2024-06-13 07:39:19.238987: I tensorflow/core/common_runtime/pluggable_device/pluggable_device_factory.cc:305] Could not identify NUMA node of platform GPU ID 0, defaulting to 0. Your kernel may not have been built with NUMA support.\n",
      "2024-06-13 07:39:19.238998: I tensorflow/core/common_runtime/pluggable_device/pluggable_device_factory.cc:271] Created TensorFlow device (/job:localhost/replica:0/task:0/device:GPU:0 with 0 MB memory) -> physical PluggableDevice (device: 0, name: METAL, pci bus id: <undefined>)\n",
      "/Users/hennerbendig/anaconda3/envs/tf_311/lib/python3.11/site-packages/keras/src/layers/activations/leaky_relu.py:41: UserWarning: Argument `alpha` is deprecated. Use `negative_slope` instead.\n",
      "  warnings.warn(\n"
     ]
    }
   ],
   "execution_count": 6
  },
  {
   "cell_type": "markdown",
   "metadata": {},
   "source": [
    "## Training"
   ]
  },
  {
   "metadata": {
    "ExecuteTime": {
     "end_time": "2024-06-13T05:39:26.817491Z",
     "start_time": "2024-06-13T05:39:25.256332Z"
    }
   },
   "cell_type": "code",
   "source": [
    "# GAN-Training\n",
    "epochs = 1\n",
    "batch_size = 32\n",
    "\n",
    "d_losses = []\n",
    "g_losses = []\n",
    "\n",
    "for epoch in range(epochs):\n",
    "    # Zufällige Samples von realen Daten\n",
    "    idx = np.random.randint(0, real.shape[0], batch_size)\n",
    "    real_samples = real[idx]\n",
    "    \n",
    "    # Zufälliges Rauschen und Fake-Daten generieren\n",
    "    noise = np.random.normal(0, 1, (batch_size, latent_dim))\n",
    "    fake_samples = generator.predict(noise)\n",
    "    \n",
    "    # Diskriminator trainieren\n",
    "    d_loss_real = discriminator.train_on_batch(real_samples, real_labels[:batch_size])\n",
    "    d_loss_fake = discriminator.train_on_batch(fake_samples, fake_labels[:batch_size])\n",
    "    d_loss = 0.5 * np.add(d_loss_real, d_loss_fake)\n",
    "    \n",
    "    # GAN trainieren\n",
    "    noise = np.random.normal(0, 1, (batch_size, latent_dim))\n",
    "    g_loss = gan.train_on_batch(noise, real_labels[:batch_size])\n",
    "    \n",
    "    # Verluste speichern\n",
    "    d_losses.append(d_loss[0])\n",
    "    g_losses.append(g_loss)\n",
    "    \n",
    "    # Fortschritt ausgeben\n",
    "    if epoch % 1000 == 0:\n",
    "        print(f\"{epoch} [D loss: {d_loss[0]}, acc.: {100*d_loss[1]}%] [G loss: {g_loss}]\")\n",
    "\n",
    "print(\"Training abgeschlossen!\")\n",
    "print(f\"{epoch} [D loss: {d_loss[0]}, acc.: {100*d_loss[1]}%] [G loss: {g_loss}]\")"
   ],
   "outputs": [
    {
     "name": "stdout",
     "output_type": "stream",
     "text": [
      "\u001B[1m1/1\u001B[0m \u001B[32m━━━━━━━━━━━━━━━━━━━━\u001B[0m\u001B[37m\u001B[0m \u001B[1m0s\u001B[0m 165ms/step\n"
     ]
    },
    {
     "name": "stderr",
     "output_type": "stream",
     "text": [
      "2024-06-13 07:39:25.329966: I tensorflow/core/grappler/optimizers/custom_graph_optimizer_registry.cc:117] Plugin optimizer for device_type GPU is enabled.\n",
      "/Users/hennerbendig/anaconda3/envs/tf_311/lib/python3.11/site-packages/keras/src/backend/tensorflow/trainer.py:71: UserWarning: The model does not have any trainable weights.\n",
      "  warnings.warn(\"The model does not have any trainable weights.\")\n"
     ]
    },
    {
     "name": "stdout",
     "output_type": "stream",
     "text": [
      "0 [D loss: nan, acc.: 78.90625%] [G loss: [array(nan, dtype=float32), array(nan, dtype=float32), array(0.796875, dtype=float32)]]\n"
     ]
    }
   ],
   "execution_count": 7
  },
  {
   "metadata": {
    "ExecuteTime": {
     "end_time": "2024-06-13T05:39:29.631566Z",
     "start_time": "2024-06-13T05:39:29.506704Z"
    }
   },
   "cell_type": "code",
   "source": [
    "# Verlustkurven plotten\n",
    "plt.figure(figsize=(10, 5))\n",
    "plt.plot(d_losses, label=\"Discriminator Loss\")\n",
    "plt.plot(g_losses, label=\"Generator Loss\")\n",
    "plt.xlabel(\"Epochs\")\n",
    "plt.ylabel(\"Loss\")\n",
    "plt.legend()\n",
    "plt.title(\"GAN Loss Curves\")\n",
    "plt.show()"
   ],
   "outputs": [
    {
     "data": {
      "text/plain": [
       "<Figure size 1000x500 with 1 Axes>"
      ],
      "image/png": "[encoded data removed]"
     },
     "metadata": {},
     "output_type": "display_data"
    }
   ],
   "execution_count": 8
  },
  {
   "metadata": {},
   "cell_type": "markdown",
   "source": "## Daten generieren"
  },
  {
   "metadata": {},
   "cell_type": "markdown",
   "source": ""
  },
  {
   "metadata": {
    "ExecuteTime": {
     "end_time": "2024-06-13T05:39:35.037752Z",
     "start_time": "2024-06-13T05:39:34.469798Z"
    }
   },
   "cell_type": "code",
   "source": [
    "# Generieren von zusätzlichen Datenpunkten nach dem Training\n",
    "num_additional_points = 1000\n",
    "noise = np.random.normal(0, 1, (num_additional_points, latent_dim))\n",
    "synthetic_data_scaled = generator.predict(noise)\n",
    "\n",
    "# Die generierten Daten zurückskalieren auf den ursprünglichen Wertebereich\n",
    "synthetic_data = scaler.inverse_transform(synthetic_data_scaled)\n",
    "\n",
    "# Die generierten Daten mit den Originaldaten kombinieren\n",
    "augmented_data = np.vstack((data, synthetic_data))\n",
    "\n",
    "# Optional: Konvertieren Sie die Daten in ein TensorFlow-Dataset\n",
    "dataset = tf.data.Dataset.from_tensor_slices(augmented_data)\n",
    "\n",
    "print(\"Original Data Shape:\", data.shape)\n",
    "print(\"Synthetic Data Shape:\", synthetic_data.shape)\n",
    "print(\"Augmented Data Shape:\", augmented_data.shape)"
   ],
   "outputs": [
    {
     "name": "stdout",
     "output_type": "stream",
     "text": [
      "\u001B[1m32/32\u001B[0m \u001B[32m━━━━━━━━━━━━━━━━━━━━\u001B[0m\u001B[37m\u001B[0m \u001B[1m1s\u001B[0m 17ms/step\n",
      "Original Data Shape: (188, 14)\n",
      "Synthetic Data Shape: (1000, 14)\n",
      "Augmented Data Shape: (1188, 14)\n"
     ]
    }
   ],
   "execution_count": 9
  },
  {
   "metadata": {
    "ExecuteTime": {
     "end_time": "2024-06-13T05:40:07.378322Z",
     "start_time": "2024-06-13T05:40:07.375173Z"
    }
   },
   "cell_type": "code",
   "source": [
    "# Ausgewählte Datenpunkte plotten\n",
    "print(\"Synthetic Data\")\n",
    "print(synthetic_data[:5])"
   ],
   "outputs": [
    {
     "name": "stdout",
     "output_type": "stream",
     "text": [
      "Synthetic Data\n",
      "[[-4.4375235e-01  1.6034615e+00 -1.2599918e+03 -1.4550791e+01\n",
      "   2.6452831e+01  2.9868013e+01  3.0551684e+00  5.4615178e+00\n",
      "   1.0252921e+01  1.4657219e+01  3.5360424e+01  2.8463026e+01\n",
      "   3.8549128e-01  2.7204064e-01]\n",
      " [ 9.6131563e+00  1.1193528e+00 -1.0693342e+03  2.2834955e+01\n",
      "   4.2511940e-01  1.0989278e+01  2.2673769e+01  5.2838142e+01\n",
      "   1.3985216e+01  1.5282511e+01  2.4976017e+01  2.7091160e+01\n",
      "   3.5968432e-01  2.0597021e-01]\n",
      " [ 1.7646656e+01  6.5197265e-01 -5.8650201e+02 -2.5140510e+00\n",
      "   5.1028843e+01 -2.9106188e+01 -3.5688703e+00  2.1418274e+01\n",
      "   2.4742012e+01  7.8190022e+00  2.3937792e+01  2.2747799e+01\n",
      "   3.3529890e-01  3.7950810e-02]\n",
      " [ 2.7585300e+01  5.1078176e-01  1.3582703e+03 -9.7978687e+00\n",
      "   4.4650906e+01 -3.1180117e+01 -1.6967079e+01  2.7742748e+01\n",
      "   1.2720315e+01  3.2599663e+01  2.6530306e+01  2.8851955e+01\n",
      "   2.7972469e-01  8.3033115e-02]\n",
      " [ 1.8284166e+01 -1.5052059e-01 -1.1712594e+03  2.2502325e+00\n",
      "   3.2187458e+01 -2.5837903e+00  2.4984058e+01  6.9312854e+00\n",
      "   1.9349478e+01 -3.8496139e+00  2.7605909e+01  2.1711020e+01\n",
      "   5.7884556e-01  2.3879153e-01]]\n"
     ]
    }
   ],
   "execution_count": 10
  }
 ],
 "metadata": {
  "kernelspec": {
   "display_name": "Python 3 (ipykernel)",
   "language": "python",
   "name": "python3"
  },
  "language_info": {
   "codemirror_mode": {
    "name": "ipython",
    "version": 3
   },
   "file_extension": ".py",
   "mimetype": "text/x-python",
   "name": "python",
   "nbconvert_exporter": "python",
   "pygments_lexer": "ipython3",
   "version": "3.12.3"
  }
 },
 "nbformat": 4,
 "nbformat_minor": 4
}
