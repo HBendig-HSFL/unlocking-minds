{
 "cells": [
  {
   "cell_type": "markdown",
   "metadata": {},
   "source": [
    "# Model Definition and Evaluation\n",
    "## Table of Contents\n",
    "1. [Model Selection](#model-selection)\n",
    "2. [Feature Engineering](#feature-engineering)\n",
    "3. [Hyperparameter Tuning](#hyperparameter-tuning)\n",
    "4. [Implementation](#implementation)\n",
    "5. [Evaluation Metrics](#evaluation-metrics)\n",
    "6. [Comparative Analysis](#comparative-analysis)\n"
   ]
  },
  {
   "cell_type": "code",
   "execution_count": 1,
   "metadata": {},
   "outputs": [
    {
     "name": "stderr",
     "output_type": "stream",
     "text": [
      "2024-06-27 01:42:10.259117: I tensorflow/core/util/port.cc:113] oneDNN custom operations are on. You may see slightly different numerical results due to floating-point round-off errors from different computation orders. To turn them off, set the environment variable `TF_ENABLE_ONEDNN_OPTS=0`.\n",
      "2024-06-27 01:42:10.282414: E external/local_xla/xla/stream_executor/cuda/cuda_dnn.cc:9261] Unable to register cuDNN factory: Attempting to register factory for plugin cuDNN when one has already been registered\n",
      "2024-06-27 01:42:10.282438: E external/local_xla/xla/stream_executor/cuda/cuda_fft.cc:607] Unable to register cuFFT factory: Attempting to register factory for plugin cuFFT when one has already been registered\n",
      "2024-06-27 01:42:10.283120: E external/local_xla/xla/stream_executor/cuda/cuda_blas.cc:1515] Unable to register cuBLAS factory: Attempting to register factory for plugin cuBLAS when one has already been registered\n",
      "2024-06-27 01:42:10.287298: I tensorflow/core/platform/cpu_feature_guard.cc:182] This TensorFlow binary is optimized to use available CPU instructions in performance-critical operations.\n",
      "To enable the following instructions: AVX2 AVX_VNNI FMA, in other operations, rebuild TensorFlow with the appropriate compiler flags.\n",
      "2024-06-27 01:42:10.771084: W tensorflow/compiler/tf2tensorrt/utils/py_utils.cc:38] TF-TRT Warning: Could not find TensorRT\n"
     ]
    }
   ],
   "source": [
    "# Import necessary libraries\n",
    "import pandas as pd\n",
    "import numpy as np\n",
    "from sklearn.model_selection import train_test_split\n",
    "from sklearn.metrics import accuracy_score, precision_score, recall_score, f1_score, confusion_matrix, classification_report\n",
    "from sklearn.preprocessing import MinMaxScaler, LabelEncoder\n",
    "import keras\n",
    "import os\n",
    "import matplotlib as mpl\n",
    "import matplotlib.pyplot as plt\n",
    "import tensorflow as tf\n",
    "import seaborn as sns"
   ]
  },
  {
   "cell_type": "code",
   "execution_count": 2,
   "metadata": {},
   "outputs": [
    {
     "name": "stdout",
     "output_type": "stream",
     "text": [
      "2.15.1\n",
      "2.15.0\n",
      "[PhysicalDevice(name='/physical_device:GPU:0', device_type='GPU')]\n"
     ]
    },
    {
     "name": "stderr",
     "output_type": "stream",
     "text": [
      "2024-06-27 01:42:11.282645: I external/local_xla/xla/stream_executor/cuda/cuda_executor.cc:901] successful NUMA node read from SysFS had negative value (-1), but there must be at least one NUMA node, so returning NUMA node zero. See more at https://github.com/torvalds/linux/blob/v6.0/Documentation/ABI/testing/sysfs-bus-pci#L344-L355\n",
      "2024-06-27 01:42:11.306761: I external/local_xla/xla/stream_executor/cuda/cuda_executor.cc:901] successful NUMA node read from SysFS had negative value (-1), but there must be at least one NUMA node, so returning NUMA node zero. See more at https://github.com/torvalds/linux/blob/v6.0/Documentation/ABI/testing/sysfs-bus-pci#L344-L355\n",
      "2024-06-27 01:42:11.307032: I external/local_xla/xla/stream_executor/cuda/cuda_executor.cc:901] successful NUMA node read from SysFS had negative value (-1), but there must be at least one NUMA node, so returning NUMA node zero. See more at https://github.com/torvalds/linux/blob/v6.0/Documentation/ABI/testing/sysfs-bus-pci#L344-L355\n"
     ]
    }
   ],
   "source": [
    "print(tf.__version__)\n",
    "print(keras.__version__)\n",
    "print(tf.config.list_physical_devices('GPU'))"
   ]
  },
  {
   "cell_type": "code",
   "execution_count": 3,
   "metadata": {},
   "outputs": [],
   "source": [
    "mpl.rcParams['figure.figsize'] = (12, 10)\n",
    "colors = plt.rcParams['axes.prop_cycle'].by_key()['color']"
   ]
  },
  {
   "cell_type": "code",
   "execution_count": 4,
   "metadata": {},
   "outputs": [],
   "source": [
    "# Ensure reproducibility\n",
    "np.random.seed(42)\n",
    "tf.random.set_seed(42)"
   ]
  },
  {
   "cell_type": "markdown",
   "metadata": {},
   "source": [
    "## Model Selection\n",
    "\n",
    "Simple neural netwok with dense layers is chosen, as we have non-time-series tabular data.\n"
   ]
  },
  {
   "cell_type": "markdown",
   "metadata": {},
   "source": [
    "## Feature Engineering\n",
    "\n",
    "Feature engineering in terms of calculating / selecting new features was already handled in the [EDA notebook](../1_DatasetCharacteristics/exploratory_data_analysis.ipynb)."
   ]
  },
  {
   "cell_type": "code",
   "execution_count": 5,
   "metadata": {},
   "outputs": [],
   "source": [
    "# Load the dataset\n",
    "data_path1 = '../Data/'\n",
    "data_path2 = '../data/'\n",
    "\n",
    "# Check which path exists\n",
    "if os.path.exists(data_path1):\n",
    "    data_path = data_path1\n",
    "elif os.path.exists(data_path2):\n",
    "    data_path = data_path2\n",
    "else:\n",
    "    raise FileNotFoundError(\"Neither data_path1 nor data_path2 exists\")\n",
    "\n",
    "full_path = os.path.join(data_path, 'preprocessed_df_v2.csv')"
   ]
  },
  {
   "cell_type": "code",
   "execution_count": 6,
   "metadata": {},
   "outputs": [
    {
     "data": {
      "text/html": [
       "<div>\n",
       "<style scoped>\n",
       "    .dataframe tbody tr th:only-of-type {\n",
       "        vertical-align: middle;\n",
       "    }\n",
       "\n",
       "    .dataframe tbody tr th {\n",
       "        vertical-align: top;\n",
       "    }\n",
       "\n",
       "    .dataframe thead th {\n",
       "        text-align: right;\n",
       "    }\n",
       "</style>\n",
       "<table border=\"1\" class=\"dataframe\">\n",
       "  <thead>\n",
       "    <tr style=\"text-align: right;\">\n",
       "      <th></th>\n",
       "      <th>test_duration</th>\n",
       "      <th>mean</th>\n",
       "      <th>mean_pupil_diameter</th>\n",
       "      <th>median_pupil_diameter</th>\n",
       "      <th>blinkrate</th>\n",
       "      <th>fixationrate</th>\n",
       "      <th>blinkrate_rel</th>\n",
       "      <th>blinkrate_rel_pct</th>\n",
       "      <th>fixationrate_rel</th>\n",
       "      <th>fixationrate_rel_pct</th>\n",
       "      <th>mean_pupil_diameter_rel</th>\n",
       "      <th>mean_pupil_diameter_rel_pct</th>\n",
       "      <th>median_pupil_diameter_rel</th>\n",
       "      <th>median_pupil_diameter_rel_pct</th>\n",
       "      <th>visual_acuity_logmar</th>\n",
       "      <th>gender</th>\n",
       "      <th>age</th>\n",
       "      <th>education</th>\n",
       "    </tr>\n",
       "  </thead>\n",
       "  <tbody>\n",
       "    <tr>\n",
       "      <th>0</th>\n",
       "      <td>33.643950</td>\n",
       "      <td>15.0</td>\n",
       "      <td>43.855534</td>\n",
       "      <td>43.893976</td>\n",
       "      <td>0.059446</td>\n",
       "      <td>0.295946</td>\n",
       "      <td>0.000000</td>\n",
       "      <td>0.000000</td>\n",
       "      <td>0.000000</td>\n",
       "      <td>0.000000</td>\n",
       "      <td>0.000000</td>\n",
       "      <td>0.000000</td>\n",
       "      <td>0.000000</td>\n",
       "      <td>0.000000</td>\n",
       "      <td>-0.04</td>\n",
       "      <td>0</td>\n",
       "      <td>28</td>\n",
       "      <td>18</td>\n",
       "    </tr>\n",
       "    <tr>\n",
       "      <th>1</th>\n",
       "      <td>28.484322</td>\n",
       "      <td>32.5</td>\n",
       "      <td>42.935538</td>\n",
       "      <td>43.021599</td>\n",
       "      <td>0.000000</td>\n",
       "      <td>0.175533</td>\n",
       "      <td>-0.059446</td>\n",
       "      <td>-100.000000</td>\n",
       "      <td>-0.120413</td>\n",
       "      <td>-40.687440</td>\n",
       "      <td>-0.919996</td>\n",
       "      <td>-2.097788</td>\n",
       "      <td>-0.872377</td>\n",
       "      <td>-1.987465</td>\n",
       "      <td>-0.04</td>\n",
       "      <td>0</td>\n",
       "      <td>28</td>\n",
       "      <td>18</td>\n",
       "    </tr>\n",
       "    <tr>\n",
       "      <th>2</th>\n",
       "      <td>71.423823</td>\n",
       "      <td>62.5</td>\n",
       "      <td>44.704459</td>\n",
       "      <td>44.791630</td>\n",
       "      <td>0.196013</td>\n",
       "      <td>0.196018</td>\n",
       "      <td>0.136567</td>\n",
       "      <td>229.732630</td>\n",
       "      <td>-0.099928</td>\n",
       "      <td>-33.765546</td>\n",
       "      <td>0.848925</td>\n",
       "      <td>1.935731</td>\n",
       "      <td>0.897654</td>\n",
       "      <td>2.045050</td>\n",
       "      <td>-0.04</td>\n",
       "      <td>0</td>\n",
       "      <td>28</td>\n",
       "      <td>18</td>\n",
       "    </tr>\n",
       "    <tr>\n",
       "      <th>3</th>\n",
       "      <td>38.163442</td>\n",
       "      <td>35.8</td>\n",
       "      <td>45.762156</td>\n",
       "      <td>45.845470</td>\n",
       "      <td>0.052406</td>\n",
       "      <td>0.288263</td>\n",
       "      <td>-0.007040</td>\n",
       "      <td>-11.842464</td>\n",
       "      <td>-0.007684</td>\n",
       "      <td>-2.596309</td>\n",
       "      <td>1.906622</td>\n",
       "      <td>4.347507</td>\n",
       "      <td>1.951494</td>\n",
       "      <td>4.445927</td>\n",
       "      <td>-0.04</td>\n",
       "      <td>0</td>\n",
       "      <td>28</td>\n",
       "      <td>18</td>\n",
       "    </tr>\n",
       "    <tr>\n",
       "      <th>4</th>\n",
       "      <td>41.748047</td>\n",
       "      <td>15.8</td>\n",
       "      <td>31.492393</td>\n",
       "      <td>31.393101</td>\n",
       "      <td>0.000000</td>\n",
       "      <td>0.143727</td>\n",
       "      <td>0.000000</td>\n",
       "      <td>NaN</td>\n",
       "      <td>0.000000</td>\n",
       "      <td>0.000000</td>\n",
       "      <td>0.000000</td>\n",
       "      <td>0.000000</td>\n",
       "      <td>0.000000</td>\n",
       "      <td>0.000000</td>\n",
       "      <td>-0.10</td>\n",
       "      <td>0</td>\n",
       "      <td>28</td>\n",
       "      <td>18</td>\n",
       "    </tr>\n",
       "  </tbody>\n",
       "</table>\n",
       "</div>"
      ],
      "text/plain": [
       "   test_duration  mean  mean_pupil_diameter  median_pupil_diameter  blinkrate  \\\n",
       "0      33.643950  15.0            43.855534              43.893976   0.059446   \n",
       "1      28.484322  32.5            42.935538              43.021599   0.000000   \n",
       "2      71.423823  62.5            44.704459              44.791630   0.196013   \n",
       "3      38.163442  35.8            45.762156              45.845470   0.052406   \n",
       "4      41.748047  15.8            31.492393              31.393101   0.000000   \n",
       "\n",
       "   fixationrate  blinkrate_rel  blinkrate_rel_pct  fixationrate_rel  \\\n",
       "0      0.295946       0.000000           0.000000          0.000000   \n",
       "1      0.175533      -0.059446        -100.000000         -0.120413   \n",
       "2      0.196018       0.136567         229.732630         -0.099928   \n",
       "3      0.288263      -0.007040         -11.842464         -0.007684   \n",
       "4      0.143727       0.000000                NaN          0.000000   \n",
       "\n",
       "   fixationrate_rel_pct  mean_pupil_diameter_rel  mean_pupil_diameter_rel_pct  \\\n",
       "0              0.000000                 0.000000                     0.000000   \n",
       "1            -40.687440                -0.919996                    -2.097788   \n",
       "2            -33.765546                 0.848925                     1.935731   \n",
       "3             -2.596309                 1.906622                     4.347507   \n",
       "4              0.000000                 0.000000                     0.000000   \n",
       "\n",
       "   median_pupil_diameter_rel  median_pupil_diameter_rel_pct  \\\n",
       "0                   0.000000                       0.000000   \n",
       "1                  -0.872377                      -1.987465   \n",
       "2                   0.897654                       2.045050   \n",
       "3                   1.951494                       4.445927   \n",
       "4                   0.000000                       0.000000   \n",
       "\n",
       "   visual_acuity_logmar  gender  age  education  \n",
       "0                 -0.04       0   28         18  \n",
       "1                 -0.04       0   28         18  \n",
       "2                 -0.04       0   28         18  \n",
       "3                 -0.04       0   28         18  \n",
       "4                 -0.10       0   28         18  "
      ]
     },
     "execution_count": 6,
     "metadata": {},
     "output_type": "execute_result"
    }
   ],
   "source": [
    "df = pd.read_csv(full_path)\n",
    "\n",
    "# Drop not needed features\n",
    "columns_to_drop = ['mental', 'physical', 'temporal', 'performance', 'effort', \n",
    "                   'frustration', 'participant_id', 'test_id']\n",
    "df.drop(columns=columns_to_drop, inplace=True)\n",
    "df.head()"
   ]
  },
  {
   "cell_type": "code",
   "execution_count": 7,
   "metadata": {},
   "outputs": [
    {
     "data": {
      "text/plain": [
       "test_duration                     0\n",
       "mean                              0\n",
       "mean_pupil_diameter               0\n",
       "median_pupil_diameter             0\n",
       "blinkrate                         0\n",
       "fixationrate                      0\n",
       "blinkrate_rel                     0\n",
       "blinkrate_rel_pct                52\n",
       "fixationrate_rel                  0\n",
       "fixationrate_rel_pct              0\n",
       "mean_pupil_diameter_rel           0\n",
       "mean_pupil_diameter_rel_pct       0\n",
       "median_pupil_diameter_rel         0\n",
       "median_pupil_diameter_rel_pct     0\n",
       "visual_acuity_logmar              0\n",
       "gender                            0\n",
       "age                               0\n",
       "education                         0\n",
       "dtype: int64"
      ]
     },
     "execution_count": 7,
     "metadata": {},
     "output_type": "execute_result"
    }
   ],
   "source": [
    "# Check dataset for NaN values\n",
    "df.isna().sum()"
   ]
  },
  {
   "cell_type": "code",
   "execution_count": 8,
   "metadata": {},
   "outputs": [
    {
     "data": {
      "text/plain": [
       "test_duration                    0\n",
       "mean                             0\n",
       "mean_pupil_diameter              0\n",
       "median_pupil_diameter            0\n",
       "blinkrate                        0\n",
       "fixationrate                     0\n",
       "blinkrate_rel                    0\n",
       "blinkrate_rel_pct                0\n",
       "fixationrate_rel                 0\n",
       "fixationrate_rel_pct             0\n",
       "mean_pupil_diameter_rel          0\n",
       "mean_pupil_diameter_rel_pct      0\n",
       "median_pupil_diameter_rel        0\n",
       "median_pupil_diameter_rel_pct    0\n",
       "visual_acuity_logmar             0\n",
       "gender                           0\n",
       "age                              0\n",
       "education                        0\n",
       "dtype: int64"
      ]
     },
     "execution_count": 8,
     "metadata": {},
     "output_type": "execute_result"
    }
   ],
   "source": [
    "# Remove NaN values that happen only in blinkrate_rel_pct, which is the relative change of the blinkate (in percentage) to the baseline.\n",
    "# If the baseline is 0, the relative change is NaN. In this case we replace NaN with 0 as there's no change.\n",
    "df['blinkrate_rel_pct'] = df['blinkrate_rel_pct'].fillna(0)\n",
    "\n",
    "# validate\n",
    "df.isna().sum()"
   ]
  },
  {
   "cell_type": "code",
   "execution_count": 9,
   "metadata": {},
   "outputs": [
    {
     "data": {
      "text/html": [
       "<div>\n",
       "<style scoped>\n",
       "    .dataframe tbody tr th:only-of-type {\n",
       "        vertical-align: middle;\n",
       "    }\n",
       "\n",
       "    .dataframe tbody tr th {\n",
       "        vertical-align: top;\n",
       "    }\n",
       "\n",
       "    .dataframe thead th {\n",
       "        text-align: right;\n",
       "    }\n",
       "</style>\n",
       "<table border=\"1\" class=\"dataframe\">\n",
       "  <thead>\n",
       "    <tr style=\"text-align: right;\">\n",
       "      <th></th>\n",
       "      <th>test_duration</th>\n",
       "      <th>mean_pupil_diameter</th>\n",
       "      <th>median_pupil_diameter</th>\n",
       "      <th>blinkrate</th>\n",
       "      <th>fixationrate</th>\n",
       "      <th>blinkrate_rel</th>\n",
       "      <th>blinkrate_rel_pct</th>\n",
       "      <th>fixationrate_rel</th>\n",
       "      <th>fixationrate_rel_pct</th>\n",
       "      <th>mean_pupil_diameter_rel</th>\n",
       "      <th>mean_pupil_diameter_rel_pct</th>\n",
       "      <th>median_pupil_diameter_rel</th>\n",
       "      <th>median_pupil_diameter_rel_pct</th>\n",
       "      <th>visual_acuity_logmar</th>\n",
       "      <th>gender</th>\n",
       "      <th>age</th>\n",
       "      <th>education</th>\n",
       "    </tr>\n",
       "  </thead>\n",
       "  <tbody>\n",
       "    <tr>\n",
       "      <th>0</th>\n",
       "      <td>33.643950</td>\n",
       "      <td>43.855534</td>\n",
       "      <td>43.893976</td>\n",
       "      <td>0.059446</td>\n",
       "      <td>0.295946</td>\n",
       "      <td>0.000000</td>\n",
       "      <td>0.000000</td>\n",
       "      <td>0.000000</td>\n",
       "      <td>0.000000</td>\n",
       "      <td>0.000000</td>\n",
       "      <td>0.000000</td>\n",
       "      <td>0.000000</td>\n",
       "      <td>0.000000</td>\n",
       "      <td>-0.04</td>\n",
       "      <td>0</td>\n",
       "      <td>28</td>\n",
       "      <td>18</td>\n",
       "    </tr>\n",
       "    <tr>\n",
       "      <th>1</th>\n",
       "      <td>28.484322</td>\n",
       "      <td>42.935538</td>\n",
       "      <td>43.021599</td>\n",
       "      <td>0.000000</td>\n",
       "      <td>0.175533</td>\n",
       "      <td>-0.059446</td>\n",
       "      <td>-100.000000</td>\n",
       "      <td>-0.120413</td>\n",
       "      <td>-40.687440</td>\n",
       "      <td>-0.919996</td>\n",
       "      <td>-2.097788</td>\n",
       "      <td>-0.872377</td>\n",
       "      <td>-1.987465</td>\n",
       "      <td>-0.04</td>\n",
       "      <td>0</td>\n",
       "      <td>28</td>\n",
       "      <td>18</td>\n",
       "    </tr>\n",
       "    <tr>\n",
       "      <th>2</th>\n",
       "      <td>71.423823</td>\n",
       "      <td>44.704459</td>\n",
       "      <td>44.791630</td>\n",
       "      <td>0.196013</td>\n",
       "      <td>0.196018</td>\n",
       "      <td>0.136567</td>\n",
       "      <td>229.732630</td>\n",
       "      <td>-0.099928</td>\n",
       "      <td>-33.765546</td>\n",
       "      <td>0.848925</td>\n",
       "      <td>1.935731</td>\n",
       "      <td>0.897654</td>\n",
       "      <td>2.045050</td>\n",
       "      <td>-0.04</td>\n",
       "      <td>0</td>\n",
       "      <td>28</td>\n",
       "      <td>18</td>\n",
       "    </tr>\n",
       "    <tr>\n",
       "      <th>3</th>\n",
       "      <td>38.163442</td>\n",
       "      <td>45.762156</td>\n",
       "      <td>45.845470</td>\n",
       "      <td>0.052406</td>\n",
       "      <td>0.288263</td>\n",
       "      <td>-0.007040</td>\n",
       "      <td>-11.842464</td>\n",
       "      <td>-0.007684</td>\n",
       "      <td>-2.596309</td>\n",
       "      <td>1.906622</td>\n",
       "      <td>4.347507</td>\n",
       "      <td>1.951494</td>\n",
       "      <td>4.445927</td>\n",
       "      <td>-0.04</td>\n",
       "      <td>0</td>\n",
       "      <td>28</td>\n",
       "      <td>18</td>\n",
       "    </tr>\n",
       "    <tr>\n",
       "      <th>4</th>\n",
       "      <td>41.748047</td>\n",
       "      <td>31.492393</td>\n",
       "      <td>31.393101</td>\n",
       "      <td>0.000000</td>\n",
       "      <td>0.143727</td>\n",
       "      <td>0.000000</td>\n",
       "      <td>0.000000</td>\n",
       "      <td>0.000000</td>\n",
       "      <td>0.000000</td>\n",
       "      <td>0.000000</td>\n",
       "      <td>0.000000</td>\n",
       "      <td>0.000000</td>\n",
       "      <td>0.000000</td>\n",
       "      <td>-0.10</td>\n",
       "      <td>0</td>\n",
       "      <td>28</td>\n",
       "      <td>18</td>\n",
       "    </tr>\n",
       "  </tbody>\n",
       "</table>\n",
       "</div>"
      ],
      "text/plain": [
       "   test_duration  mean_pupil_diameter  median_pupil_diameter  blinkrate  \\\n",
       "0      33.643950            43.855534              43.893976   0.059446   \n",
       "1      28.484322            42.935538              43.021599   0.000000   \n",
       "2      71.423823            44.704459              44.791630   0.196013   \n",
       "3      38.163442            45.762156              45.845470   0.052406   \n",
       "4      41.748047            31.492393              31.393101   0.000000   \n",
       "\n",
       "   fixationrate  blinkrate_rel  blinkrate_rel_pct  fixationrate_rel  \\\n",
       "0      0.295946       0.000000           0.000000          0.000000   \n",
       "1      0.175533      -0.059446        -100.000000         -0.120413   \n",
       "2      0.196018       0.136567         229.732630         -0.099928   \n",
       "3      0.288263      -0.007040         -11.842464         -0.007684   \n",
       "4      0.143727       0.000000           0.000000          0.000000   \n",
       "\n",
       "   fixationrate_rel_pct  mean_pupil_diameter_rel  mean_pupil_diameter_rel_pct  \\\n",
       "0              0.000000                 0.000000                     0.000000   \n",
       "1            -40.687440                -0.919996                    -2.097788   \n",
       "2            -33.765546                 0.848925                     1.935731   \n",
       "3             -2.596309                 1.906622                     4.347507   \n",
       "4              0.000000                 0.000000                     0.000000   \n",
       "\n",
       "   median_pupil_diameter_rel  median_pupil_diameter_rel_pct  \\\n",
       "0                   0.000000                       0.000000   \n",
       "1                  -0.872377                      -1.987465   \n",
       "2                   0.897654                       2.045050   \n",
       "3                   1.951494                       4.445927   \n",
       "4                   0.000000                       0.000000   \n",
       "\n",
       "   visual_acuity_logmar  gender  age  education  \n",
       "0                 -0.04       0   28         18  \n",
       "1                 -0.04       0   28         18  \n",
       "2                 -0.04       0   28         18  \n",
       "3                 -0.04       0   28         18  \n",
       "4                 -0.10       0   28         18  "
      ]
     },
     "execution_count": 9,
     "metadata": {},
     "output_type": "execute_result"
    }
   ],
   "source": [
    "# Feature and target variable selection\n",
    "X = df.drop(['mean'], axis=1)\n",
    "y = df['mean'] # mean is the mean cognitive workload we want to predict\n",
    "X.head()"
   ]
  },
  {
   "cell_type": "code",
   "execution_count": 10,
   "metadata": {},
   "outputs": [
    {
     "data": {
      "text/plain": [
       "0    15.0\n",
       "1    32.5\n",
       "2    62.5\n",
       "3    35.8\n",
       "4    15.8\n",
       "Name: mean, dtype: float64"
      ]
     },
     "execution_count": 10,
     "metadata": {},
     "output_type": "execute_result"
    }
   ],
   "source": [
    "y.head()"
   ]
  },
  {
   "cell_type": "code",
   "execution_count": 11,
   "metadata": {},
   "outputs": [
    {
     "data": {
      "text/plain": [
       "0     low\n",
       "1     low\n",
       "2    high\n",
       "3     low\n",
       "4     low\n",
       "5     low\n",
       "6     low\n",
       "7    high\n",
       "8     low\n",
       "9     low\n",
       "Name: mean, dtype: object"
      ]
     },
     "execution_count": 11,
     "metadata": {},
     "output_type": "execute_result"
    }
   ],
   "source": [
    "# Categorize labels to low/high congnitive workload\n",
    "y = y.map(lambda x: 'low' if x <= 50 else 'high')\n",
    "y.head(10)"
   ]
  },
  {
   "cell_type": "code",
   "execution_count": 12,
   "metadata": {},
   "outputs": [
    {
     "name": "stdout",
     "output_type": "stream",
     "text": [
      "Labels:\n",
      "Original Label: 'low', Encoded Label: 1\n",
      "Original Label: 'low', Encoded Label: 1\n",
      "Original Label: 'high', Encoded Label: 0\n",
      "Original Label: 'low', Encoded Label: 1\n",
      "Original Label: 'low', Encoded Label: 1\n",
      "Original Label: 'low', Encoded Label: 1\n",
      "Original Label: 'low', Encoded Label: 1\n",
      "Original Label: 'high', Encoded Label: 0\n",
      "Original Label: 'low', Encoded Label: 1\n",
      "Original Label: 'low', Encoded Label: 1\n"
     ]
    }
   ],
   "source": [
    "# Encode labels, sci-kit learn can internally handle strings, but we convert them anyways for good practice\n",
    "label_encoder = LabelEncoder()\n",
    "y_encoded = label_encoder.fit_transform(y)\n",
    "\n",
    "print(f\"Labels:\")\n",
    "for original, encoded in zip(y[:10], y_encoded[:10]):\n",
    "    print(f\"Original Label: '{original}', Encoded Label: {encoded}\")"
   ]
  },
  {
   "cell_type": "code",
   "execution_count": 13,
   "metadata": {},
   "outputs": [
    {
     "data": {
      "image/png": "[encoded data removed]",
      "text/plain": [
       "<Figure size 1000x400 with 1 Axes>"
      ]
     },
     "metadata": {},
     "output_type": "display_data"
    },
    {
     "data": {
      "text/plain": [
       "<Figure size 1000x400 with 0 Axes>"
      ]
     },
     "execution_count": 13,
     "metadata": {},
     "output_type": "execute_result"
    },
    {
     "data": {
      "text/plain": [
       "<Figure size 1000x400 with 0 Axes>"
      ]
     },
     "metadata": {},
     "output_type": "display_data"
    }
   ],
   "source": [
    "counts = y.value_counts()\n",
    "\n",
    "plt.figure(figsize=(10, 4))  \n",
    "plt.bar(counts.index, counts)  \n",
    "\n",
    "# Adding title and labels\n",
    "plt.title('Distribution of Cognitive Workload')\n",
    "plt.xlabel('Workload Category')\n",
    "plt.ylabel('Frequency')\n",
    "\n",
    "# Show the plot\n",
    "plt.show()\n",
    "\n",
    "# Quick check how the labels are distributed\n",
    "plt.figure(figsize=(10, 4))\n"
   ]
  },
  {
   "cell_type": "code",
   "execution_count": 14,
   "metadata": {},
   "outputs": [],
   "source": [
    "# From EDA we know - Given that many of our features do not follow a normal distribution and have varying scales,\n",
    "# MinMaxScaler will be used, to normalize all features to the same scale. \n",
    "scaler = MinMaxScaler(feature_range=(-1, 1))\n",
    "X = scaler.fit_transform(X)"
   ]
  },
  {
   "cell_type": "code",
   "execution_count": 15,
   "metadata": {},
   "outputs": [],
   "source": [
    "# First split: 80% for training and 20% for temp (which will be split into validation and test)\n",
    "X_train, X_temp, y_train, y_temp = train_test_split(X, y_encoded, test_size=0.2, random_state=42)\n",
    "\n",
    "# Second split: Split the temp into validation and test (50% each of 20% -> 10% each of the original)\n",
    "X_val, X_test, y_val, y_test = train_test_split(X_temp, y_temp, test_size=0.5, random_state=42)\n",
    "\n",
    "# We end up with the following split:\n",
    "# X_train: 80% of the data\n",
    "# X_val: 10% of the data\n",
    "# X_test: 10% of the data"
   ]
  },
  {
   "cell_type": "code",
   "execution_count": 16,
   "metadata": {},
   "outputs": [
    {
     "name": "stdout",
     "output_type": "stream",
     "text": [
      "Percentages for Training (150 samples):\n",
      "high: 22.00%\n",
      "low: 78.00%\n",
      "Percentages for Validation (19 samples):\n",
      "high: 21.05%\n",
      "low: 78.95%\n",
      "Percentages for Testing (19 samples):\n",
      "high: 47.37%\n",
      "low: 52.63%\n"
     ]
    }
   ],
   "source": [
    "# Check splits for label distribution\n",
    "y_train_decoded = label_encoder.inverse_transform(y_train)\n",
    "y_val_decoded = label_encoder.inverse_transform(y_val)\n",
    "y_test_decoded = label_encoder.inverse_transform(y_test)\n",
    "\n",
    "def print_percentage(decoded_labels, split_name):\n",
    "    unique, counts = np.unique(decoded_labels, return_counts=True)\n",
    "    total = counts.sum()\n",
    "    percentages = 100 * counts / total\n",
    "    print(f\"Percentages for {split_name} ({total} samples):\")\n",
    "    for label, percentage in zip(unique, percentages):\n",
    "        print(f\"{label}: {percentage:.2f}%\")\n",
    "\n",
    "# Apply the function to each set\n",
    "print_percentage(y_train_decoded, \"Training\")\n",
    "print_percentage(y_val_decoded, \"Validation\")\n",
    "print_percentage(y_test_decoded, \"Testing\")"
   ]
  },
  {
   "cell_type": "markdown",
   "metadata": {},
   "source": [
    "## Hyperparameter Tuning\n",
    "\n",
    "[Discuss any hyperparameter tuning methods you've applied, such as Grid Search or Random Search, and the rationale behind them.]\n"
   ]
  },
  {
   "cell_type": "code",
   "execution_count": 17,
   "metadata": {},
   "outputs": [],
   "source": [
    "# Implement hyperparameter tuning\n",
    "# Example using GridSearchCV with a DecisionTreeClassifier\n",
    "# param_grid = {'max_depth': [2, 4, 6, 8]}\n",
    "# grid_search = GridSearchCV(DecisionTreeClassifier(), param_grid, cv=5)\n",
    "# grid_search.fit(X_train, y_train)\n"
   ]
  },
  {
   "cell_type": "markdown",
   "metadata": {},
   "source": [
    "## Implementation"
   ]
  },
  {
   "cell_type": "code",
   "execution_count": 18,
   "metadata": {},
   "outputs": [
    {
     "name": "stderr",
     "output_type": "stream",
     "text": [
      "2024-06-27 01:42:11.507909: I external/local_xla/xla/stream_executor/cuda/cuda_executor.cc:901] successful NUMA node read from SysFS had negative value (-1), but there must be at least one NUMA node, so returning NUMA node zero. See more at https://github.com/torvalds/linux/blob/v6.0/Documentation/ABI/testing/sysfs-bus-pci#L344-L355\n",
      "2024-06-27 01:42:11.508087: I external/local_xla/xla/stream_executor/cuda/cuda_executor.cc:901] successful NUMA node read from SysFS had negative value (-1), but there must be at least one NUMA node, so returning NUMA node zero. See more at https://github.com/torvalds/linux/blob/v6.0/Documentation/ABI/testing/sysfs-bus-pci#L344-L355\n",
      "2024-06-27 01:42:11.508138: I external/local_xla/xla/stream_executor/cuda/cuda_executor.cc:901] successful NUMA node read from SysFS had negative value (-1), but there must be at least one NUMA node, so returning NUMA node zero. See more at https://github.com/torvalds/linux/blob/v6.0/Documentation/ABI/testing/sysfs-bus-pci#L344-L355\n",
      "2024-06-27 01:42:11.556088: I external/local_xla/xla/stream_executor/cuda/cuda_executor.cc:901] successful NUMA node read from SysFS had negative value (-1), but there must be at least one NUMA node, so returning NUMA node zero. See more at https://github.com/torvalds/linux/blob/v6.0/Documentation/ABI/testing/sysfs-bus-pci#L344-L355\n",
      "2024-06-27 01:42:11.556194: I external/local_xla/xla/stream_executor/cuda/cuda_executor.cc:901] successful NUMA node read from SysFS had negative value (-1), but there must be at least one NUMA node, so returning NUMA node zero. See more at https://github.com/torvalds/linux/blob/v6.0/Documentation/ABI/testing/sysfs-bus-pci#L344-L355\n",
      "2024-06-27 01:42:11.556359: I external/local_xla/xla/stream_executor/cuda/cuda_executor.cc:901] successful NUMA node read from SysFS had negative value (-1), but there must be at least one NUMA node, so returning NUMA node zero. See more at https://github.com/torvalds/linux/blob/v6.0/Documentation/ABI/testing/sysfs-bus-pci#L344-L355\n",
      "2024-06-27 01:42:11.556410: I tensorflow/core/common_runtime/gpu/gpu_device.cc:1929] Created device /job:localhost/replica:0/task:0/device:GPU:0 with 21597 MB memory:  -> device: 0, name: NVIDIA GeForce RTX 3090, pci bus id: 0000:01:00.0, compute capability: 8.6\n"
     ]
    }
   ],
   "source": [
    "METRICS = [\n",
    "      keras.metrics.BinaryCrossentropy(name='cross entropy'),  # same as model's loss\n",
    "      keras.metrics.MeanSquaredError(name='Brier score'),\n",
    "      keras.metrics.TruePositives(name='tp'),\n",
    "      keras.metrics.FalsePositives(name='fp'),\n",
    "      keras.metrics.TrueNegatives(name='tn'),\n",
    "      keras.metrics.FalseNegatives(name='fn'), \n",
    "      keras.metrics.BinaryAccuracy(name='accuracy'),\n",
    "      keras.metrics.Precision(name='precision'),\n",
    "      keras.metrics.Recall(name='recall'),\n",
    "      keras.metrics.AUC(name='auc'),\n",
    "      keras.metrics.AUC(name='prc', curve='PR'), # precision-recall curve\n",
    "]\n",
    "\n",
    "def make_model(train_features, metrics=METRICS, output_bias=None):\n",
    "  if output_bias is not None:\n",
    "    output_bias = keras.initializers.Constant(output_bias)\n",
    "\n",
    "  model = keras.Sequential([\n",
    "      keras.layers.Dense(256, activation='relu',input_shape=(train_features.shape[-1],)),\n",
    "      keras.layers.Dropout(0.5),\n",
    "      keras.layers.Dense(128, activation='relu'),\n",
    "      keras.layers.Dropout(0.5),\n",
    "      keras.layers.Dense(1, activation='sigmoid', bias_initializer=output_bias),\n",
    "  ])\n",
    "\n",
    "  model.compile(\n",
    "      optimizer=keras.optimizers.Adam(learning_rate=1e-3),\n",
    "      loss=keras.losses.BinaryCrossentropy(),\n",
    "      metrics=metrics)\n",
    "\n",
    "  return model"
   ]
  },
  {
   "cell_type": "code",
   "execution_count": 19,
   "metadata": {},
   "outputs": [],
   "source": [
    "EPOCHS = 500\n",
    "BATCH_SIZE = 32 # Should be higher, but we only have 150 samples in train set\n",
    "\n",
    "early_stopping = keras.callbacks.EarlyStopping(\n",
    "    # monitor='val_prc', \n",
    "    # monitor='val_accuracy',\n",
    "    monitor='val_loss',\n",
    "    verbose=1,\n",
    "    patience=10,\n",
    "    mode='max',\n",
    "    restore_best_weights=True)"
   ]
  },
  {
   "cell_type": "code",
   "execution_count": 20,
   "metadata": {},
   "outputs": [
    {
     "name": "stdout",
     "output_type": "stream",
     "text": [
      "Model: \"sequential\"\n",
      "_________________________________________________________________\n",
      " Layer (type)                Output Shape              Param #   \n",
      "=================================================================\n",
      " dense (Dense)               (None, 256)               4608      \n",
      "                                                                 \n",
      " dropout (Dropout)           (None, 256)               0         \n",
      "                                                                 \n",
      " dense_1 (Dense)             (None, 128)               32896     \n",
      "                                                                 \n",
      " dropout_1 (Dropout)         (None, 128)               0         \n",
      "                                                                 \n",
      " dense_2 (Dense)             (None, 1)                 129       \n",
      "                                                                 \n",
      "=================================================================\n",
      "Total params: 37633 (147.00 KB)\n",
      "Trainable params: 37633 (147.00 KB)\n",
      "Non-trainable params: 0 (0.00 Byte)\n",
      "_________________________________________________________________\n"
     ]
    }
   ],
   "source": [
    "# Compile model\n",
    "model = make_model(X_train)\n",
    "model.summary()"
   ]
  },
  {
   "cell_type": "code",
   "execution_count": 21,
   "metadata": {},
   "outputs": [
    {
     "name": "stdout",
     "output_type": "stream",
     "text": [
      "1/1 [==============================] - 0s 159ms/step\n",
      "Loss: 0.5231\n"
     ]
    }
   ],
   "source": [
    "# Check initial training loss\n",
    "model.predict(X_train[:10])\n",
    "\n",
    "results = model.evaluate(X_train, y_train, batch_size=BATCH_SIZE, verbose=0)\n",
    "print(\"Loss: {:0.4f}\".format(results[0]))"
   ]
  },
  {
   "cell_type": "code",
   "execution_count": 22,
   "metadata": {},
   "outputs": [
    {
     "name": "stdout",
     "output_type": "stream",
     "text": [
      "Initial bias: -1.2656663733312759\n"
     ]
    }
   ],
   "source": [
    "# Setting init loss with bias - https://karpathy.github.io/2019/04/25/recipe/#2-set-up-the-end-to-end-trainingevaluation-skeleton--get-dumb-baselines\n",
    "# We want to make sure that the minority class ('high') is accurately classified, thats why we treat it as 'positive' class\n",
    "# Initial bias can be calculated with np.log(pos/neg)\n",
    "\n",
    "pos = np.sum(y_train == 0) # 0 is encoded 'high'\n",
    "neg = np.sum(y_train == 1) # 1 is encoded 'low'\n",
    "initial_bias =  np.log(pos/neg)\n",
    "print(f\"Initial bias: {initial_bias}\")"
   ]
  },
  {
   "cell_type": "markdown",
   "metadata": {},
   "source": [
    "The initial bias setting helps because it aligns the initial predictions more closely with the observed distribution of the classes, particularly when there's a significant class imbalance like we have where 'high' is underrepresented. It povides the model with a reasonable starting point. We should hopefully achieve faster convergence as its starting closer to an optimal point and get better initial performance, since the initial predictions aren't so skewed towards the majority ('low') class."
   ]
  },
  {
   "cell_type": "code",
   "execution_count": 23,
   "metadata": {},
   "outputs": [
    {
     "name": "stdout",
     "output_type": "stream",
     "text": [
      "1/1 [==============================] - 0s 29ms/step\n",
      "Loss: 1.1647\n"
     ]
    }
   ],
   "source": [
    "# Check initial loss with bias\n",
    "model = make_model(X_train, output_bias=initial_bias)\n",
    "model.predict(X_train[:10])\n",
    "\n",
    "results = model.evaluate(X_train, y_train, batch_size=BATCH_SIZE, verbose=0)\n",
    "print(\"Loss: {:0.4f}\".format(results[0]))"
   ]
  },
  {
   "cell_type": "code",
   "execution_count": 24,
   "metadata": {},
   "outputs": [
    {
     "name": "stderr",
     "output_type": "stream",
     "text": [
      "2024-06-27 01:42:14.816470: I external/local_xla/xla/service/service.cc:168] XLA service 0x7565401a8170 initialized for platform CUDA (this does not guarantee that XLA will be used). Devices:\n",
      "2024-06-27 01:42:14.816492: I external/local_xla/xla/service/service.cc:176]   StreamExecutor device (0): NVIDIA GeForce RTX 3090, Compute Capability 8.6\n",
      "2024-06-27 01:42:14.819810: I tensorflow/compiler/mlir/tensorflow/utils/dump_mlir_util.cc:269] disabling MLIR crash reproducer, set env var `MLIR_CRASH_REPRODUCER_DIRECTORY` to enable.\n",
      "2024-06-27 01:42:14.830056: I external/local_xla/xla/stream_executor/cuda/cuda_dnn.cc:454] Loaded cuDNN version 8904\n",
      "WARNING: All log messages before absl::InitializeLog() is called are written to STDERR\n",
      "I0000 00:00:1719445334.881665   96557 device_compiler.h:186] Compiled cluster using XLA!  This line is logged at most once for the lifetime of the process.\n"
     ]
    }
   ],
   "source": [
    "# Verify that setting initial bias helps\n",
    "# Without bias\n",
    "model = make_model(X_train)\n",
    "zero_bias_history = model.fit(\n",
    "    X_train,\n",
    "    y_train,\n",
    "    batch_size=BATCH_SIZE,\n",
    "    epochs=20,\n",
    "    validation_data=(X_val, y_val), \n",
    "    verbose=0)"
   ]
  },
  {
   "cell_type": "code",
   "execution_count": 25,
   "metadata": {},
   "outputs": [],
   "source": [
    "# With bias\n",
    "model = make_model(X_train, output_bias=initial_bias)\n",
    "careful_bias_history = model.fit(\n",
    "    X_train,\n",
    "    y_train,\n",
    "    batch_size=BATCH_SIZE,\n",
    "    epochs=20,\n",
    "    validation_data=(X_val, y_val), \n",
    "    verbose=0)"
   ]
  },
  {
   "cell_type": "code",
   "execution_count": 26,
   "metadata": {},
   "outputs": [
    {
     "data": {
      "image/png": "[encoded data removed]",
      "text/plain": [
       "<Figure size 1200x1000 with 1 Axes>"
      ]
     },
     "metadata": {},
     "output_type": "display_data"
    }
   ],
   "source": [
    "def plot_loss(history, label, n):\n",
    "  # Use a log scale on y-axis to show the wide range of values.\n",
    "  plt.semilogy(history.epoch, history.history['loss'],\n",
    "               color=colors[n], label='Train ' + label)\n",
    "  plt.semilogy(history.epoch, history.history['val_loss'],\n",
    "               color=colors[n], label='Val ' + label,\n",
    "               linestyle=\"--\")\n",
    "  plt.xlabel('Epoch')\n",
    "  plt.ylabel('Loss')\n",
    "  plt.legend()\n",
    "\n",
    "plot_loss(zero_bias_history, \"Zero Bias\", 0)\n",
    "plot_loss(careful_bias_history, \"Careful Bias\", 1)"
   ]
  },
  {
   "cell_type": "markdown",
   "metadata": {},
   "source": [
    "We can see that this didn't really help, the starting loss is actually lower for train and validation without the bias correction. Therefore we will not use it."
   ]
  },
  {
   "cell_type": "code",
   "execution_count": 27,
   "metadata": {},
   "outputs": [
    {
     "name": "stdout",
     "output_type": "stream",
     "text": [
      "Epoch 1/500\n",
      "5/5 [==============================] - 1s 72ms/step - loss: 0.5151 - cross entropy: 0.4965 - Brier score: 0.1608 - tp: 132.0000 - fp: 35.0000 - tn: 2.0000 - fn: 0.0000e+00 - accuracy: 0.7929 - precision: 0.7904 - recall: 1.0000 - auc: 0.6484 - prc: 0.8668 - val_loss: 0.4919 - val_cross entropy: 0.4919 - val_Brier score: 0.1590 - val_tp: 15.0000 - val_fp: 4.0000 - val_tn: 0.0000e+00 - val_fn: 0.0000e+00 - val_accuracy: 0.7895 - val_precision: 0.7895 - val_recall: 1.0000 - val_auc: 0.8333 - val_prc: 0.9540\n",
      "Epoch 2/500\n",
      "5/5 [==============================] - 0s 10ms/step - loss: 0.5244 - cross entropy: 0.5244 - Brier score: 0.1703 - tp: 117.0000 - fp: 33.0000 - tn: 0.0000e+00 - fn: 0.0000e+00 - accuracy: 0.7800 - precision: 0.7800 - recall: 1.0000 - auc: 0.5578 - prc: 0.8196 - val_loss: 0.4783 - val_cross entropy: 0.4783 - val_Brier score: 0.1550 - val_tp: 15.0000 - val_fp: 4.0000 - val_tn: 0.0000e+00 - val_fn: 0.0000e+00 - val_accuracy: 0.7895 - val_precision: 0.7895 - val_recall: 1.0000 - val_auc: 0.8583 - val_prc: 0.9625\n",
      "Epoch 3/500\n",
      "5/5 [==============================] - 0s 10ms/step - loss: 0.4999 - cross entropy: 0.4999 - Brier score: 0.1627 - tp: 117.0000 - fp: 33.0000 - tn: 0.0000e+00 - fn: 0.0000e+00 - accuracy: 0.7800 - precision: 0.7800 - recall: 1.0000 - auc: 0.6968 - prc: 0.8728 - val_loss: 0.4652 - val_cross entropy: 0.4652 - val_Brier score: 0.1507 - val_tp: 15.0000 - val_fp: 4.0000 - val_tn: 0.0000e+00 - val_fn: 0.0000e+00 - val_accuracy: 0.7895 - val_precision: 0.7895 - val_recall: 1.0000 - val_auc: 0.8833 - val_prc: 0.9697\n",
      "Epoch 4/500\n",
      "5/5 [==============================] - 0s 10ms/step - loss: 0.4978 - cross entropy: 0.4978 - Brier score: 0.1622 - tp: 117.0000 - fp: 33.0000 - tn: 0.0000e+00 - fn: 0.0000e+00 - accuracy: 0.7800 - precision: 0.7800 - recall: 1.0000 - auc: 0.6844 - prc: 0.8850 - val_loss: 0.4540 - val_cross entropy: 0.4540 - val_Brier score: 0.1464 - val_tp: 15.0000 - val_fp: 4.0000 - val_tn: 0.0000e+00 - val_fn: 0.0000e+00 - val_accuracy: 0.7895 - val_precision: 0.7895 - val_recall: 1.0000 - val_auc: 0.8833 - val_prc: 0.9679\n",
      "Epoch 5/500\n",
      "5/5 [==============================] - 0s 10ms/step - loss: 0.4849 - cross entropy: 0.4849 - Brier score: 0.1581 - tp: 117.0000 - fp: 33.0000 - tn: 0.0000e+00 - fn: 0.0000e+00 - accuracy: 0.7800 - precision: 0.7800 - recall: 1.0000 - auc: 0.7454 - prc: 0.9028 - val_loss: 0.4446 - val_cross entropy: 0.4446 - val_Brier score: 0.1429 - val_tp: 15.0000 - val_fp: 4.0000 - val_tn: 0.0000e+00 - val_fn: 0.0000e+00 - val_accuracy: 0.7895 - val_precision: 0.7895 - val_recall: 1.0000 - val_auc: 0.8750 - val_prc: 0.9651\n",
      "Epoch 6/500\n",
      "5/5 [==============================] - 0s 13ms/step - loss: 0.4793 - cross entropy: 0.4793 - Brier score: 0.1553 - tp: 117.0000 - fp: 32.0000 - tn: 1.0000 - fn: 0.0000e+00 - accuracy: 0.7867 - precision: 0.7852 - recall: 1.0000 - auc: 0.7260 - prc: 0.8975 - val_loss: 0.4354 - val_cross entropy: 0.4354 - val_Brier score: 0.1390 - val_tp: 15.0000 - val_fp: 4.0000 - val_tn: 0.0000e+00 - val_fn: 0.0000e+00 - val_accuracy: 0.7895 - val_precision: 0.7895 - val_recall: 1.0000 - val_auc: 0.8833 - val_prc: 0.9672\n",
      "Epoch 7/500\n",
      "5/5 [==============================] - 0s 10ms/step - loss: 0.4654 - cross entropy: 0.4654 - Brier score: 0.1503 - tp: 116.0000 - fp: 32.0000 - tn: 1.0000 - fn: 1.0000 - accuracy: 0.7800 - precision: 0.7838 - recall: 0.9915 - auc: 0.7638 - prc: 0.9139 - val_loss: 0.4257 - val_cross entropy: 0.4257 - val_Brier score: 0.1355 - val_tp: 15.0000 - val_fp: 4.0000 - val_tn: 0.0000e+00 - val_fn: 0.0000e+00 - val_accuracy: 0.7895 - val_precision: 0.7895 - val_recall: 1.0000 - val_auc: 0.8750 - val_prc: 0.9651\n",
      "Epoch 8/500\n",
      "5/5 [==============================] - 0s 10ms/step - loss: 0.4607 - cross entropy: 0.4607 - Brier score: 0.1490 - tp: 116.0000 - fp: 32.0000 - tn: 1.0000 - fn: 1.0000 - accuracy: 0.7800 - precision: 0.7838 - recall: 0.9915 - auc: 0.7722 - prc: 0.9151 - val_loss: 0.4163 - val_cross entropy: 0.4163 - val_Brier score: 0.1325 - val_tp: 15.0000 - val_fp: 4.0000 - val_tn: 0.0000e+00 - val_fn: 0.0000e+00 - val_accuracy: 0.7895 - val_precision: 0.7895 - val_recall: 1.0000 - val_auc: 0.8833 - val_prc: 0.9672\n",
      "Epoch 9/500\n",
      "5/5 [==============================] - 0s 10ms/step - loss: 0.4326 - cross entropy: 0.4326 - Brier score: 0.1383 - tp: 117.0000 - fp: 31.0000 - tn: 2.0000 - fn: 0.0000e+00 - accuracy: 0.7933 - precision: 0.7905 - recall: 1.0000 - auc: 0.8134 - prc: 0.9349 - val_loss: 0.4075 - val_cross entropy: 0.4075 - val_Brier score: 0.1296 - val_tp: 15.0000 - val_fp: 4.0000 - val_tn: 0.0000e+00 - val_fn: 0.0000e+00 - val_accuracy: 0.7895 - val_precision: 0.7895 - val_recall: 1.0000 - val_auc: 0.8833 - val_prc: 0.9679\n",
      "Epoch 10/500\n",
      "5/5 [==============================] - 0s 10ms/step - loss: 0.4561 - cross entropy: 0.4561 - Brier score: 0.1469 - tp: 117.0000 - fp: 32.0000 - tn: 1.0000 - fn: 0.0000e+00 - accuracy: 0.7867 - precision: 0.7852 - recall: 1.0000 - auc: 0.7708 - prc: 0.9120 - val_loss: 0.3997 - val_cross entropy: 0.3997 - val_Brier score: 0.1267 - val_tp: 15.0000 - val_fp: 4.0000 - val_tn: 0.0000e+00 - val_fn: 0.0000e+00 - val_accuracy: 0.7895 - val_precision: 0.7895 - val_recall: 1.0000 - val_auc: 0.8917 - val_prc: 0.9709\n",
      "Epoch 11/500\n",
      "1/5 [=====>........................] - ETA: 0s - loss: 0.4208 - cross entropy: 0.4208 - Brier score: 0.1300 - tp: 26.0000 - fp: 6.0000 - tn: 0.0000e+00 - fn: 0.0000e+00 - accuracy: 0.8125 - precision: 0.8125 - recall: 1.0000 - auc: 0.7244 - prc: 0.9112Restoring model weights from the end of the best epoch: 1.\n",
      "5/5 [==============================] - 0s 11ms/step - loss: 0.4379 - cross entropy: 0.4379 - Brier score: 0.1416 - tp: 114.0000 - fp: 32.0000 - tn: 1.0000 - fn: 3.0000 - accuracy: 0.7667 - precision: 0.7808 - recall: 0.9744 - auc: 0.8025 - prc: 0.9311 - val_loss: 0.3920 - val_cross entropy: 0.3920 - val_Brier score: 0.1233 - val_tp: 15.0000 - val_fp: 3.0000 - val_tn: 1.0000 - val_fn: 0.0000e+00 - val_accuracy: 0.8421 - val_precision: 0.8333 - val_recall: 1.0000 - val_auc: 0.8917 - val_prc: 0.9709\n",
      "Epoch 11: early stopping\n"
     ]
    }
   ],
   "source": [
    "# Training the model\n",
    "model = make_model(X_train)\n",
    "model_history = model.fit(\n",
    "    X_train,\n",
    "    y_train,\n",
    "    batch_size=BATCH_SIZE,\n",
    "    epochs=EPOCHS,\n",
    "    callbacks=[early_stopping],\n",
    "    validation_data=(X_val, y_val),\n",
    ")"
   ]
  },
  {
   "cell_type": "markdown",
   "metadata": {},
   "source": [
    "## Evaluation Metrics\n",
    "- Accuracy\n",
    "- Precision\n",
    "- Recall\n",
    "- F1 Score"
   ]
  },
  {
   "cell_type": "code",
   "execution_count": 28,
   "metadata": {},
   "outputs": [
    {
     "name": "stdout",
     "output_type": "stream",
     "text": [
      "1/1 [==============================] - 0s 28ms/step\n",
      "Accuracy: 0.5263157894736842\n",
      "Precision: 0.5263157894736842\n",
      "Recall: 1.0\n",
      "F1 Score: 0.6896551724137931\n"
     ]
    }
   ],
   "source": [
    "predictions = model.predict(X_test)\n",
    "predictions = (predictions > 0.5).astype('int')  # Convert probabilities to 0 or 1 based on a threshold of 0.5\n",
    "\n",
    "accuracy = accuracy_score(y_test, predictions)\n",
    "precision = precision_score(y_test, predictions)\n",
    "recall = recall_score(y_test, predictions)\n",
    "f1 = f1_score(y_test, predictions)\n",
    "\n",
    "print(f\"Accuracy: {accuracy}\")\n",
    "print(f\"Precision: {precision}\")\n",
    "print(f\"Recall: {recall}\")\n",
    "print(f\"F1 Score: {f1}\")"
   ]
  },
  {
   "cell_type": "code",
   "execution_count": 29,
   "metadata": {},
   "outputs": [
    {
     "name": "stdout",
     "output_type": "stream",
     "text": [
      "              precision    recall  f1-score   support\n",
      "\n",
      "           0       0.00      0.00      0.00         4\n",
      "           1       0.79      1.00      0.88        15\n",
      "\n",
      "    accuracy                           0.79        19\n",
      "   macro avg       0.39      0.50      0.44        19\n",
      "weighted avg       0.62      0.79      0.70        19\n",
      "\n"
     ]
    },
    {
     "name": "stderr",
     "output_type": "stream",
     "text": [
      "/home/x/miniconda3/envs/tf/lib/python3.11/site-packages/sklearn/metrics/_classification.py:1517: UndefinedMetricWarning: Precision is ill-defined and being set to 0.0 in labels with no predicted samples. Use `zero_division` parameter to control this behavior.\n",
      "  _warn_prf(average, modifier, f\"{metric.capitalize()} is\", len(result))\n",
      "/home/x/miniconda3/envs/tf/lib/python3.11/site-packages/sklearn/metrics/_classification.py:1517: UndefinedMetricWarning: Precision is ill-defined and being set to 0.0 in labels with no predicted samples. Use `zero_division` parameter to control this behavior.\n",
      "  _warn_prf(average, modifier, f\"{metric.capitalize()} is\", len(result))\n",
      "/home/x/miniconda3/envs/tf/lib/python3.11/site-packages/sklearn/metrics/_classification.py:1517: UndefinedMetricWarning: Precision is ill-defined and being set to 0.0 in labels with no predicted samples. Use `zero_division` parameter to control this behavior.\n",
      "  _warn_prf(average, modifier, f\"{metric.capitalize()} is\", len(result))\n"
     ]
    }
   ],
   "source": [
    "report = classification_report(y_val, predictions)\n",
    "print(report)"
   ]
  },
  {
   "cell_type": "code",
   "execution_count": 30,
   "metadata": {},
   "outputs": [
    {
     "data": {
      "image/png": "[encoded data removed]",
      "text/plain": [
       "<Figure size 1200x600 with 2 Axes>"
      ]
     },
     "metadata": {},
     "output_type": "display_data"
    }
   ],
   "source": [
    "# Plot training & validation accuracy values\n",
    "plt.figure(figsize=(12, 6))\n",
    "plt.subplot(1, 2, 1)\n",
    "plt.plot(model_history.history['accuracy'])\n",
    "plt.plot(model_history.history['val_accuracy'])\n",
    "plt.title('Model Accuracy')\n",
    "plt.ylabel('Accuracy')\n",
    "plt.xlabel('Epoch')\n",
    "plt.legend(['Train', 'Validation'], loc='upper left')\n",
    "\n",
    "# Plot training & validation loss values\n",
    "plt.subplot(1, 2, 2)\n",
    "plt.plot(model_history.history['loss'])\n",
    "plt.plot(model_history.history['val_loss'])\n",
    "plt.title('Model Loss')\n",
    "plt.ylabel('Loss')\n",
    "plt.xlabel('Epoch')\n",
    "plt.legend(['Train', 'Validation'], loc='upper left')\n",
    "\n",
    "plt.show()"
   ]
  },
  {
   "cell_type": "code",
   "execution_count": 31,
   "metadata": {},
   "outputs": [],
   "source": [
    "def plot_metrics(history):\n",
    "  metrics = ['loss', 'prc', 'precision', 'recall']\n",
    "  for n, metric in enumerate(metrics):\n",
    "    name = metric.replace(\"_\",\" \").capitalize()\n",
    "    plt.subplot(2,2,n+1)\n",
    "    plt.plot(history.epoch, history.history[metric], color=colors[0], label='Train')\n",
    "    plt.plot(history.epoch, history.history['val_'+metric],\n",
    "             color=colors[0], linestyle=\"--\", label='Val')\n",
    "    plt.xlabel('Epoch')\n",
    "    plt.ylabel(name)\n",
    "    if metric == 'loss':\n",
    "      plt.ylim([0, plt.ylim()[1]])\n",
    "    elif metric == 'auc':\n",
    "      plt.ylim([0.8,1])\n",
    "    else:\n",
    "      plt.ylim([0,1])\n",
    "\n",
    "    plt.legend()\n"
   ]
  },
  {
   "cell_type": "code",
   "execution_count": 32,
   "metadata": {},
   "outputs": [
    {
     "data": {
      "image/png": "[encoded data removed]",
      "text/plain": [
       "<Figure size 1200x1000 with 4 Axes>"
      ]
     },
     "metadata": {},
     "output_type": "display_data"
    }
   ],
   "source": [
    "plot_metrics(model_history)"
   ]
  },
  {
   "cell_type": "markdown",
   "metadata": {},
   "source": [
    "## Comparative Analysis\n",
    "\n",
    "We'll briefly compare the GNB results with our neural net.\n",
    "\n",
    "### Results:\n",
    "GNB Binary:\n",
    "- Accuracy: 0.6842105263157895\n",
    "- Precision: 0.6739323055112528\n",
    "- Recall: 0.6842105263157895\n",
    "- F1 Score: 0.6771255060728746\n",
    "\n",
    "GNB Binary with augmented data:\n",
    "- Accuracy: 0.7255369928400954\n",
    "- Precision: 0.7298890741720154\n",
    "- Recall: 0.7255369928400954\n",
    "- F1 Score: 0.7276105008806703\n",
    "\n",
    "Neural Network Binary:\n",
    "- Accuracy: 0.5263157894736842\n",
    "- Precision: 0.5263157894736842\n",
    "- Recall: 1.0\n",
    "- F1 Score: 0.6896551724137931\n",
    "\n",
    "From the results we can see that the GNB outperforms the NN on this binary classification task.\n",
    "\n",
    "The GNB is a fairly simple traditional machine learning model, which makes strong (naive) assumptions about the independance of features. The NN on the other hand is more complex and shines through the flexibility and capability to model relationships in large datasets. In our case with only 150 training samples, the neural net is quite prone to overfit and thereform performs worse. This is visible through the high recall and lower precision."
   ]
  },
  {
   "cell_type": "markdown",
   "metadata": {},
   "source": [
    "# Solving dataset issues \n",
    "\n",
    "As we have seen with the results above, the neural net doesn't perform good at all on this small of a dataset. Furthermore the dataset is seriously unbalanced. We have a lot more data for 'low' cognitive workload than for 'high'. In the several notebooks in this folder we have tried different approaches to solve this problem. Starting with a statistical approach based on means and standard deviations. Followed by attempting to use a generative adversarial network (GAN) to generate the data. Since the features were quite different when comparing the tests, we needed a way to generate features based on a specified test, e.g. Test3  which was the test where the subjects had a time constraint and a secondary task. Thats where a conditional GAN comes in. A conditional GAN allows to input an additional label as input to the generator and will effectively only generate data that looks like the data it has already seen for that label. "
   ]
  },
  {
   "cell_type": "markdown",
   "metadata": {},
   "source": [
    "Due to underperforming GAN/cGAN we pivoted from a generative approach using neural networks to generating synthetic data using simple statistical methods. For more details on that approach refer to [Statistical Data Generation Notebook](data_generation_statistic_test.ipynb)."
   ]
  },
  {
   "cell_type": "code",
   "execution_count": 33,
   "metadata": {},
   "outputs": [],
   "source": [
    "full_path = os.path.join(data_path, 'preprocessed_df_v3.csv')"
   ]
  },
  {
   "cell_type": "code",
   "execution_count": 34,
   "metadata": {},
   "outputs": [
    {
     "data": {
      "text/html": [
       "<div>\n",
       "<style scoped>\n",
       "    .dataframe tbody tr th:only-of-type {\n",
       "        vertical-align: middle;\n",
       "    }\n",
       "\n",
       "    .dataframe tbody tr th {\n",
       "        vertical-align: top;\n",
       "    }\n",
       "\n",
       "    .dataframe thead th {\n",
       "        text-align: right;\n",
       "    }\n",
       "</style>\n",
       "<table border=\"1\" class=\"dataframe\">\n",
       "  <thead>\n",
       "    <tr style=\"text-align: right;\">\n",
       "      <th></th>\n",
       "      <th>test_duration</th>\n",
       "      <th>mean</th>\n",
       "      <th>mean_pupil_diameter</th>\n",
       "      <th>median_pupil_diameter</th>\n",
       "      <th>blinkrate</th>\n",
       "      <th>fixationrate</th>\n",
       "      <th>visual_acuity_logmar</th>\n",
       "      <th>gender</th>\n",
       "      <th>age</th>\n",
       "      <th>education</th>\n",
       "      <th>blinkrate_rel</th>\n",
       "      <th>blinkrate_rel_pct</th>\n",
       "      <th>fixationrate_rel</th>\n",
       "      <th>fixationrate_rel_pct</th>\n",
       "      <th>mean_pupil_diameter_rel</th>\n",
       "      <th>mean_pupil_diameter_rel_pct</th>\n",
       "      <th>median_pupil_diameter_rel</th>\n",
       "      <th>median_pupil_diameter_rel_pct</th>\n",
       "    </tr>\n",
       "  </thead>\n",
       "  <tbody>\n",
       "    <tr>\n",
       "      <th>0</th>\n",
       "      <td>33.643950</td>\n",
       "      <td>15.0</td>\n",
       "      <td>43.855534</td>\n",
       "      <td>43.893976</td>\n",
       "      <td>0.059446</td>\n",
       "      <td>0.295946</td>\n",
       "      <td>-0.04</td>\n",
       "      <td>0</td>\n",
       "      <td>28</td>\n",
       "      <td>18</td>\n",
       "      <td>0.000000</td>\n",
       "      <td>0.000000</td>\n",
       "      <td>0.000000</td>\n",
       "      <td>0.000000</td>\n",
       "      <td>0.000000</td>\n",
       "      <td>0.000000</td>\n",
       "      <td>0.000000</td>\n",
       "      <td>0.000000</td>\n",
       "    </tr>\n",
       "    <tr>\n",
       "      <th>1</th>\n",
       "      <td>28.484322</td>\n",
       "      <td>32.5</td>\n",
       "      <td>42.935538</td>\n",
       "      <td>43.021599</td>\n",
       "      <td>0.000000</td>\n",
       "      <td>0.175533</td>\n",
       "      <td>-0.04</td>\n",
       "      <td>0</td>\n",
       "      <td>28</td>\n",
       "      <td>18</td>\n",
       "      <td>-0.059446</td>\n",
       "      <td>-100.000000</td>\n",
       "      <td>-0.120413</td>\n",
       "      <td>-40.687440</td>\n",
       "      <td>-0.919996</td>\n",
       "      <td>-2.097788</td>\n",
       "      <td>-0.872377</td>\n",
       "      <td>-1.987465</td>\n",
       "    </tr>\n",
       "    <tr>\n",
       "      <th>2</th>\n",
       "      <td>71.423823</td>\n",
       "      <td>62.5</td>\n",
       "      <td>44.704459</td>\n",
       "      <td>44.791630</td>\n",
       "      <td>0.196013</td>\n",
       "      <td>0.196018</td>\n",
       "      <td>-0.04</td>\n",
       "      <td>0</td>\n",
       "      <td>28</td>\n",
       "      <td>18</td>\n",
       "      <td>0.136567</td>\n",
       "      <td>229.732630</td>\n",
       "      <td>-0.099928</td>\n",
       "      <td>-33.765546</td>\n",
       "      <td>0.848925</td>\n",
       "      <td>1.935731</td>\n",
       "      <td>0.897654</td>\n",
       "      <td>2.045050</td>\n",
       "    </tr>\n",
       "    <tr>\n",
       "      <th>3</th>\n",
       "      <td>38.163442</td>\n",
       "      <td>35.8</td>\n",
       "      <td>45.762156</td>\n",
       "      <td>45.845470</td>\n",
       "      <td>0.052406</td>\n",
       "      <td>0.288263</td>\n",
       "      <td>-0.04</td>\n",
       "      <td>0</td>\n",
       "      <td>28</td>\n",
       "      <td>18</td>\n",
       "      <td>-0.007040</td>\n",
       "      <td>-11.842464</td>\n",
       "      <td>-0.007684</td>\n",
       "      <td>-2.596309</td>\n",
       "      <td>1.906622</td>\n",
       "      <td>4.347507</td>\n",
       "      <td>1.951494</td>\n",
       "      <td>4.445927</td>\n",
       "    </tr>\n",
       "    <tr>\n",
       "      <th>4</th>\n",
       "      <td>41.748047</td>\n",
       "      <td>15.8</td>\n",
       "      <td>31.492393</td>\n",
       "      <td>31.393101</td>\n",
       "      <td>0.000000</td>\n",
       "      <td>0.143727</td>\n",
       "      <td>-0.10</td>\n",
       "      <td>0</td>\n",
       "      <td>28</td>\n",
       "      <td>18</td>\n",
       "      <td>0.000000</td>\n",
       "      <td>0.000000</td>\n",
       "      <td>0.000000</td>\n",
       "      <td>0.000000</td>\n",
       "      <td>0.000000</td>\n",
       "      <td>0.000000</td>\n",
       "      <td>0.000000</td>\n",
       "      <td>0.000000</td>\n",
       "    </tr>\n",
       "  </tbody>\n",
       "</table>\n",
       "</div>"
      ],
      "text/plain": [
       "   test_duration  mean  mean_pupil_diameter  median_pupil_diameter  blinkrate  \\\n",
       "0      33.643950  15.0            43.855534              43.893976   0.059446   \n",
       "1      28.484322  32.5            42.935538              43.021599   0.000000   \n",
       "2      71.423823  62.5            44.704459              44.791630   0.196013   \n",
       "3      38.163442  35.8            45.762156              45.845470   0.052406   \n",
       "4      41.748047  15.8            31.492393              31.393101   0.000000   \n",
       "\n",
       "   fixationrate  visual_acuity_logmar  gender  age  education  blinkrate_rel  \\\n",
       "0      0.295946                 -0.04       0   28         18       0.000000   \n",
       "1      0.175533                 -0.04       0   28         18      -0.059446   \n",
       "2      0.196018                 -0.04       0   28         18       0.136567   \n",
       "3      0.288263                 -0.04       0   28         18      -0.007040   \n",
       "4      0.143727                 -0.10       0   28         18       0.000000   \n",
       "\n",
       "   blinkrate_rel_pct  fixationrate_rel  fixationrate_rel_pct  \\\n",
       "0           0.000000          0.000000              0.000000   \n",
       "1        -100.000000         -0.120413            -40.687440   \n",
       "2         229.732630         -0.099928            -33.765546   \n",
       "3         -11.842464         -0.007684             -2.596309   \n",
       "4           0.000000          0.000000              0.000000   \n",
       "\n",
       "   mean_pupil_diameter_rel  mean_pupil_diameter_rel_pct  \\\n",
       "0                 0.000000                     0.000000   \n",
       "1                -0.919996                    -2.097788   \n",
       "2                 0.848925                     1.935731   \n",
       "3                 1.906622                     4.347507   \n",
       "4                 0.000000                     0.000000   \n",
       "\n",
       "   median_pupil_diameter_rel  median_pupil_diameter_rel_pct  \n",
       "0                   0.000000                       0.000000  \n",
       "1                  -0.872377                      -1.987465  \n",
       "2                   0.897654                       2.045050  \n",
       "3                   1.951494                       4.445927  \n",
       "4                   0.000000                       0.000000  "
      ]
     },
     "execution_count": 34,
     "metadata": {},
     "output_type": "execute_result"
    }
   ],
   "source": [
    "df = pd.read_csv(full_path)\n",
    "\n",
    "# Drop not needed features\n",
    "columns_to_drop = ['mental', 'physical', 'temporal', 'performance', 'effort', \n",
    "                   'frustration', 'participant_id', 'test_id']\n",
    "df.drop(columns=columns_to_drop, inplace=True)\n",
    "df.head()"
   ]
  },
  {
   "cell_type": "code",
   "execution_count": 35,
   "metadata": {},
   "outputs": [
    {
     "name": "stdout",
     "output_type": "stream",
     "text": [
      "Number of samples: 4188\n",
      "Number of features: 18\n"
     ]
    }
   ],
   "source": [
    "# Print shape of the dataset\n",
    "print(f\"Number of samples: {df.shape[0]}\")\n",
    "print(f\"Number of features: {df.shape[1]}\")"
   ]
  },
  {
   "cell_type": "code",
   "execution_count": 36,
   "metadata": {},
   "outputs": [
    {
     "data": {
      "text/plain": [
       "test_duration                    0\n",
       "mean                             0\n",
       "mean_pupil_diameter              0\n",
       "median_pupil_diameter            0\n",
       "blinkrate                        0\n",
       "fixationrate                     0\n",
       "visual_acuity_logmar             0\n",
       "gender                           0\n",
       "age                              0\n",
       "education                        0\n",
       "blinkrate_rel                    0\n",
       "blinkrate_rel_pct                0\n",
       "fixationrate_rel                 0\n",
       "fixationrate_rel_pct             0\n",
       "mean_pupil_diameter_rel          0\n",
       "mean_pupil_diameter_rel_pct      0\n",
       "median_pupil_diameter_rel        0\n",
       "median_pupil_diameter_rel_pct    0\n",
       "dtype: int64"
      ]
     },
     "execution_count": 36,
     "metadata": {},
     "output_type": "execute_result"
    }
   ],
   "source": [
    "# Check dataset for NaN values\n",
    "df.isna().sum()"
   ]
  },
  {
   "cell_type": "code",
   "execution_count": 37,
   "metadata": {},
   "outputs": [
    {
     "data": {
      "text/html": [
       "<div>\n",
       "<style scoped>\n",
       "    .dataframe tbody tr th:only-of-type {\n",
       "        vertical-align: middle;\n",
       "    }\n",
       "\n",
       "    .dataframe tbody tr th {\n",
       "        vertical-align: top;\n",
       "    }\n",
       "\n",
       "    .dataframe thead th {\n",
       "        text-align: right;\n",
       "    }\n",
       "</style>\n",
       "<table border=\"1\" class=\"dataframe\">\n",
       "  <thead>\n",
       "    <tr style=\"text-align: right;\">\n",
       "      <th></th>\n",
       "      <th>test_duration</th>\n",
       "      <th>mean_pupil_diameter</th>\n",
       "      <th>median_pupil_diameter</th>\n",
       "      <th>blinkrate</th>\n",
       "      <th>fixationrate</th>\n",
       "      <th>visual_acuity_logmar</th>\n",
       "      <th>gender</th>\n",
       "      <th>age</th>\n",
       "      <th>education</th>\n",
       "      <th>blinkrate_rel</th>\n",
       "      <th>blinkrate_rel_pct</th>\n",
       "      <th>fixationrate_rel</th>\n",
       "      <th>fixationrate_rel_pct</th>\n",
       "      <th>mean_pupil_diameter_rel</th>\n",
       "      <th>mean_pupil_diameter_rel_pct</th>\n",
       "      <th>median_pupil_diameter_rel</th>\n",
       "      <th>median_pupil_diameter_rel_pct</th>\n",
       "    </tr>\n",
       "  </thead>\n",
       "  <tbody>\n",
       "    <tr>\n",
       "      <th>0</th>\n",
       "      <td>33.643950</td>\n",
       "      <td>43.855534</td>\n",
       "      <td>43.893976</td>\n",
       "      <td>0.059446</td>\n",
       "      <td>0.295946</td>\n",
       "      <td>-0.04</td>\n",
       "      <td>0</td>\n",
       "      <td>28</td>\n",
       "      <td>18</td>\n",
       "      <td>0.000000</td>\n",
       "      <td>0.000000</td>\n",
       "      <td>0.000000</td>\n",
       "      <td>0.000000</td>\n",
       "      <td>0.000000</td>\n",
       "      <td>0.000000</td>\n",
       "      <td>0.000000</td>\n",
       "      <td>0.000000</td>\n",
       "    </tr>\n",
       "    <tr>\n",
       "      <th>1</th>\n",
       "      <td>28.484322</td>\n",
       "      <td>42.935538</td>\n",
       "      <td>43.021599</td>\n",
       "      <td>0.000000</td>\n",
       "      <td>0.175533</td>\n",
       "      <td>-0.04</td>\n",
       "      <td>0</td>\n",
       "      <td>28</td>\n",
       "      <td>18</td>\n",
       "      <td>-0.059446</td>\n",
       "      <td>-100.000000</td>\n",
       "      <td>-0.120413</td>\n",
       "      <td>-40.687440</td>\n",
       "      <td>-0.919996</td>\n",
       "      <td>-2.097788</td>\n",
       "      <td>-0.872377</td>\n",
       "      <td>-1.987465</td>\n",
       "    </tr>\n",
       "    <tr>\n",
       "      <th>2</th>\n",
       "      <td>71.423823</td>\n",
       "      <td>44.704459</td>\n",
       "      <td>44.791630</td>\n",
       "      <td>0.196013</td>\n",
       "      <td>0.196018</td>\n",
       "      <td>-0.04</td>\n",
       "      <td>0</td>\n",
       "      <td>28</td>\n",
       "      <td>18</td>\n",
       "      <td>0.136567</td>\n",
       "      <td>229.732630</td>\n",
       "      <td>-0.099928</td>\n",
       "      <td>-33.765546</td>\n",
       "      <td>0.848925</td>\n",
       "      <td>1.935731</td>\n",
       "      <td>0.897654</td>\n",
       "      <td>2.045050</td>\n",
       "    </tr>\n",
       "    <tr>\n",
       "      <th>3</th>\n",
       "      <td>38.163442</td>\n",
       "      <td>45.762156</td>\n",
       "      <td>45.845470</td>\n",
       "      <td>0.052406</td>\n",
       "      <td>0.288263</td>\n",
       "      <td>-0.04</td>\n",
       "      <td>0</td>\n",
       "      <td>28</td>\n",
       "      <td>18</td>\n",
       "      <td>-0.007040</td>\n",
       "      <td>-11.842464</td>\n",
       "      <td>-0.007684</td>\n",
       "      <td>-2.596309</td>\n",
       "      <td>1.906622</td>\n",
       "      <td>4.347507</td>\n",
       "      <td>1.951494</td>\n",
       "      <td>4.445927</td>\n",
       "    </tr>\n",
       "    <tr>\n",
       "      <th>4</th>\n",
       "      <td>41.748047</td>\n",
       "      <td>31.492393</td>\n",
       "      <td>31.393101</td>\n",
       "      <td>0.000000</td>\n",
       "      <td>0.143727</td>\n",
       "      <td>-0.10</td>\n",
       "      <td>0</td>\n",
       "      <td>28</td>\n",
       "      <td>18</td>\n",
       "      <td>0.000000</td>\n",
       "      <td>0.000000</td>\n",
       "      <td>0.000000</td>\n",
       "      <td>0.000000</td>\n",
       "      <td>0.000000</td>\n",
       "      <td>0.000000</td>\n",
       "      <td>0.000000</td>\n",
       "      <td>0.000000</td>\n",
       "    </tr>\n",
       "  </tbody>\n",
       "</table>\n",
       "</div>"
      ],
      "text/plain": [
       "   test_duration  mean_pupil_diameter  median_pupil_diameter  blinkrate  \\\n",
       "0      33.643950            43.855534              43.893976   0.059446   \n",
       "1      28.484322            42.935538              43.021599   0.000000   \n",
       "2      71.423823            44.704459              44.791630   0.196013   \n",
       "3      38.163442            45.762156              45.845470   0.052406   \n",
       "4      41.748047            31.492393              31.393101   0.000000   \n",
       "\n",
       "   fixationrate  visual_acuity_logmar  gender  age  education  blinkrate_rel  \\\n",
       "0      0.295946                 -0.04       0   28         18       0.000000   \n",
       "1      0.175533                 -0.04       0   28         18      -0.059446   \n",
       "2      0.196018                 -0.04       0   28         18       0.136567   \n",
       "3      0.288263                 -0.04       0   28         18      -0.007040   \n",
       "4      0.143727                 -0.10       0   28         18       0.000000   \n",
       "\n",
       "   blinkrate_rel_pct  fixationrate_rel  fixationrate_rel_pct  \\\n",
       "0           0.000000          0.000000              0.000000   \n",
       "1        -100.000000         -0.120413            -40.687440   \n",
       "2         229.732630         -0.099928            -33.765546   \n",
       "3         -11.842464         -0.007684             -2.596309   \n",
       "4           0.000000          0.000000              0.000000   \n",
       "\n",
       "   mean_pupil_diameter_rel  mean_pupil_diameter_rel_pct  \\\n",
       "0                 0.000000                     0.000000   \n",
       "1                -0.919996                    -2.097788   \n",
       "2                 0.848925                     1.935731   \n",
       "3                 1.906622                     4.347507   \n",
       "4                 0.000000                     0.000000   \n",
       "\n",
       "   median_pupil_diameter_rel  median_pupil_diameter_rel_pct  \n",
       "0                   0.000000                       0.000000  \n",
       "1                  -0.872377                      -1.987465  \n",
       "2                   0.897654                       2.045050  \n",
       "3                   1.951494                       4.445927  \n",
       "4                   0.000000                       0.000000  "
      ]
     },
     "execution_count": 37,
     "metadata": {},
     "output_type": "execute_result"
    }
   ],
   "source": [
    "# Feature and target variable selection\n",
    "X = df.drop(['mean'], axis=1)\n",
    "y = df['mean'] # mean is the mean cognitive workload we want to predict\n",
    "X.head()"
   ]
  },
  {
   "cell_type": "code",
   "execution_count": 38,
   "metadata": {},
   "outputs": [
    {
     "data": {
      "text/plain": [
       "0    15.0\n",
       "1    32.5\n",
       "2    62.5\n",
       "3    35.8\n",
       "4    15.8\n",
       "Name: mean, dtype: float64"
      ]
     },
     "execution_count": 38,
     "metadata": {},
     "output_type": "execute_result"
    }
   ],
   "source": [
    "y.head()"
   ]
  },
  {
   "cell_type": "code",
   "execution_count": 39,
   "metadata": {},
   "outputs": [
    {
     "data": {
      "text/plain": [
       "0     low\n",
       "1     low\n",
       "2    high\n",
       "3     low\n",
       "4     low\n",
       "5     low\n",
       "6     low\n",
       "7    high\n",
       "8     low\n",
       "9     low\n",
       "Name: mean, dtype: object"
      ]
     },
     "execution_count": 39,
     "metadata": {},
     "output_type": "execute_result"
    }
   ],
   "source": [
    "# Categorize labels to low/high congnitive workload\n",
    "y = y.map(lambda x: 'low' if x <= 50 else 'high')\n",
    "y.head(10)"
   ]
  },
  {
   "cell_type": "code",
   "execution_count": 40,
   "metadata": {},
   "outputs": [
    {
     "name": "stdout",
     "output_type": "stream",
     "text": [
      "Labels:\n",
      "Original Label: 'low', Encoded Label: 1\n",
      "Original Label: 'low', Encoded Label: 1\n",
      "Original Label: 'high', Encoded Label: 0\n",
      "Original Label: 'low', Encoded Label: 1\n",
      "Original Label: 'low', Encoded Label: 1\n",
      "Original Label: 'low', Encoded Label: 1\n",
      "Original Label: 'low', Encoded Label: 1\n",
      "Original Label: 'high', Encoded Label: 0\n",
      "Original Label: 'low', Encoded Label: 1\n",
      "Original Label: 'low', Encoded Label: 1\n"
     ]
    }
   ],
   "source": [
    "# Encode labels, sci-kit learn can internally handle strings, but we convert them anyways for good practice\n",
    "label_encoder = LabelEncoder()\n",
    "y_encoded = label_encoder.fit_transform(y)\n",
    "\n",
    "print(f\"Labels:\")\n",
    "for original, encoded in zip(y[:10], y_encoded[:10]):\n",
    "    print(f\"Original Label: '{original}', Encoded Label: {encoded}\")"
   ]
  },
  {
   "cell_type": "code",
   "execution_count": 41,
   "metadata": {},
   "outputs": [
    {
     "data": {
      "image/png": "[encoded data removed]",
      "text/plain": [
       "<Figure size 800x400 with 1 Axes>"
      ]
     },
     "metadata": {},
     "output_type": "display_data"
    },
    {
     "data": {
      "text/plain": [
       "<Figure size 1000x400 with 0 Axes>"
      ]
     },
     "execution_count": 41,
     "metadata": {},
     "output_type": "execute_result"
    },
    {
     "data": {
      "text/plain": [
       "<Figure size 1000x400 with 0 Axes>"
      ]
     },
     "metadata": {},
     "output_type": "display_data"
    }
   ],
   "source": [
    "counts = y.value_counts()\n",
    "\n",
    "plt.figure(figsize=(8, 4))  \n",
    "plt.bar(counts.index, counts)  \n",
    "\n",
    "# Adding title and labels\n",
    "plt.title('Distribution of Cognitive Workload')\n",
    "plt.xlabel('Workload Category')\n",
    "plt.ylabel('Frequency')\n",
    "\n",
    "# Show the plot\n",
    "plt.show()\n",
    "\n",
    "# Quick check how the labels are distributed\n",
    "plt.figure(figsize=(10, 4))"
   ]
  },
  {
   "cell_type": "code",
   "execution_count": 42,
   "metadata": {},
   "outputs": [],
   "source": [
    "# From EDA we know - Given that many of our features do not follow a normal distribution and have varying scales,\n",
    "# MinMaxScaler will be used, to normalize all features to the same scale. \n",
    "scaler = MinMaxScaler(feature_range=(-1, 1))\n",
    "X = scaler.fit_transform(X)"
   ]
  },
  {
   "cell_type": "code",
   "execution_count": 43,
   "metadata": {},
   "outputs": [],
   "source": [
    "# First split: 80% for training and 20% for temp (which will be split into validation and test)\n",
    "X_train, X_temp, y_train, y_temp = train_test_split(X, y_encoded, test_size=0.2, random_state=42)\n",
    "\n",
    "# Second split: Split the temp into validation and test (50% each of 20% -> 10% each of the original)\n",
    "X_val, X_test, y_val, y_test = train_test_split(X_temp, y_temp, test_size=0.5, random_state=42)\n",
    "\n",
    "# We end up with the following split:\n",
    "# X_train: 80% of the data\n",
    "# X_val: 10% of the data\n",
    "# X_test: 10% of the data"
   ]
  },
  {
   "cell_type": "code",
   "execution_count": 44,
   "metadata": {},
   "outputs": [
    {
     "name": "stdout",
     "output_type": "stream",
     "text": [
      "Percentages for Training (3350 samples):\n",
      "high: 24.84%\n",
      "low: 75.16%\n",
      "Percentages for Validation (419 samples):\n",
      "high: 23.15%\n",
      "low: 76.85%\n",
      "Percentages for Testing (419 samples):\n",
      "high: 27.21%\n",
      "low: 72.79%\n"
     ]
    }
   ],
   "source": [
    "# Check splits for label distribution\n",
    "y_train_decoded = label_encoder.inverse_transform(y_train)\n",
    "y_val_decoded = label_encoder.inverse_transform(y_val)\n",
    "y_test_decoded = label_encoder.inverse_transform(y_test)\n",
    "\n",
    "def print_percentage(decoded_labels, split_name):\n",
    "    unique, counts = np.unique(decoded_labels, return_counts=True)\n",
    "    total = counts.sum()\n",
    "    percentages = 100 * counts / total\n",
    "    print(f\"Percentages for {split_name} ({total} samples):\")\n",
    "    for label, percentage in zip(unique, percentages):\n",
    "        print(f\"{label}: {percentage:.2f}%\")\n",
    "\n",
    "# Apply the function to each set\n",
    "print_percentage(y_train_decoded, \"Training\")\n",
    "print_percentage(y_val_decoded, \"Validation\")\n",
    "print_percentage(y_test_decoded, \"Testing\")"
   ]
  },
  {
   "cell_type": "code",
   "execution_count": 45,
   "metadata": {},
   "outputs": [
    {
     "name": "stdout",
     "output_type": "stream",
     "text": [
      "Model: \"sequential_5\"\n",
      "_________________________________________________________________\n",
      " Layer (type)                Output Shape              Param #   \n",
      "=================================================================\n",
      " dense_15 (Dense)            (None, 256)               4608      \n",
      "                                                                 \n",
      " dropout_10 (Dropout)        (None, 256)               0         \n",
      "                                                                 \n",
      " dense_16 (Dense)            (None, 128)               32896     \n",
      "                                                                 \n",
      " dropout_11 (Dropout)        (None, 128)               0         \n",
      "                                                                 \n",
      " dense_17 (Dense)            (None, 1)                 129       \n",
      "                                                                 \n",
      "=================================================================\n",
      "Total params: 37633 (147.00 KB)\n",
      "Trainable params: 37633 (147.00 KB)\n",
      "Non-trainable params: 0 (0.00 Byte)\n",
      "_________________________________________________________________\n"
     ]
    }
   ],
   "source": [
    "# Compile model\n",
    "model = make_model(X_train)\n",
    "model.summary()"
   ]
  },
  {
   "cell_type": "code",
   "execution_count": 46,
   "metadata": {},
   "outputs": [
    {
     "name": "stdout",
     "output_type": "stream",
     "text": [
      "Epoch 1/500\n",
      "105/105 [==============================] - 1s 5ms/step - loss: 0.5648 - cross entropy: 0.5638 - Brier score: 0.1895 - tp: 2279.0000 - fp: 717.0000 - tn: 119.0000 - fn: 254.0000 - accuracy: 0.7118 - precision: 0.7607 - recall: 0.8997 - auc: 0.6228 - prc: 0.8247 - val_loss: 0.4811 - val_cross entropy: 0.4811 - val_Brier score: 0.1529 - val_tp: 308.0000 - val_fp: 79.0000 - val_tn: 18.0000 - val_fn: 14.0000 - val_accuracy: 0.7780 - val_precision: 0.7959 - val_recall: 0.9565 - val_auc: 0.7461 - val_prc: 0.8584\n",
      "Epoch 2/500\n",
      "105/105 [==============================] - 0s 3ms/step - loss: 0.5104 - cross entropy: 0.5104 - Brier score: 0.1670 - tp: 2345.0000 - fp: 642.0000 - tn: 190.0000 - fn: 173.0000 - accuracy: 0.7567 - precision: 0.7851 - recall: 0.9313 - auc: 0.7125 - prc: 0.8665 - val_loss: 0.4815 - val_cross entropy: 0.4815 - val_Brier score: 0.1535 - val_tp: 295.0000 - val_fp: 68.0000 - val_tn: 29.0000 - val_fn: 27.0000 - val_accuracy: 0.7733 - val_precision: 0.8127 - val_recall: 0.9161 - val_auc: 0.7414 - val_prc: 0.8602\n",
      "Epoch 3/500\n",
      "105/105 [==============================] - 0s 3ms/step - loss: 0.5105 - cross entropy: 0.5105 - Brier score: 0.1676 - tp: 2279.0000 - fp: 630.0000 - tn: 202.0000 - fn: 239.0000 - accuracy: 0.7406 - precision: 0.7834 - recall: 0.9051 - auc: 0.7175 - prc: 0.8690 - val_loss: 0.4760 - val_cross entropy: 0.4760 - val_Brier score: 0.1515 - val_tp: 297.0000 - val_fp: 70.0000 - val_tn: 27.0000 - val_fn: 25.0000 - val_accuracy: 0.7733 - val_precision: 0.8093 - val_recall: 0.9224 - val_auc: 0.7407 - val_prc: 0.8585\n",
      "Epoch 4/500\n",
      "105/105 [==============================] - 0s 3ms/step - loss: 0.5085 - cross entropy: 0.5085 - Brier score: 0.1659 - tp: 2283.0000 - fp: 612.0000 - tn: 220.0000 - fn: 235.0000 - accuracy: 0.7472 - precision: 0.7886 - recall: 0.9067 - auc: 0.7198 - prc: 0.8661 - val_loss: 0.4781 - val_cross entropy: 0.4781 - val_Brier score: 0.1525 - val_tp: 293.0000 - val_fp: 65.0000 - val_tn: 32.0000 - val_fn: 29.0000 - val_accuracy: 0.7757 - val_precision: 0.8184 - val_recall: 0.9099 - val_auc: 0.7402 - val_prc: 0.8602\n",
      "Epoch 5/500\n",
      "105/105 [==============================] - 0s 2ms/step - loss: 0.4988 - cross entropy: 0.4988 - Brier score: 0.1627 - tp: 2292.0000 - fp: 603.0000 - tn: 229.0000 - fn: 226.0000 - accuracy: 0.7525 - precision: 0.7917 - recall: 0.9102 - auc: 0.7322 - prc: 0.8754 - val_loss: 0.4770 - val_cross entropy: 0.4770 - val_Brier score: 0.1516 - val_tp: 296.0000 - val_fp: 67.0000 - val_tn: 30.0000 - val_fn: 26.0000 - val_accuracy: 0.7780 - val_precision: 0.8154 - val_recall: 0.9193 - val_auc: 0.7416 - val_prc: 0.8624\n",
      "Epoch 6/500\n",
      "105/105 [==============================] - 0s 3ms/step - loss: 0.4994 - cross entropy: 0.4994 - Brier score: 0.1630 - tp: 2271.0000 - fp: 585.0000 - tn: 247.0000 - fn: 247.0000 - accuracy: 0.7516 - precision: 0.7952 - recall: 0.9019 - auc: 0.7338 - prc: 0.8761 - val_loss: 0.4756 - val_cross entropy: 0.4756 - val_Brier score: 0.1522 - val_tp: 300.0000 - val_fp: 75.0000 - val_tn: 22.0000 - val_fn: 22.0000 - val_accuracy: 0.7685 - val_precision: 0.8000 - val_recall: 0.9317 - val_auc: 0.7446 - val_prc: 0.8668\n",
      "Epoch 7/500\n",
      "105/105 [==============================] - 0s 3ms/step - loss: 0.4997 - cross entropy: 0.4997 - Brier score: 0.1631 - tp: 2282.0000 - fp: 595.0000 - tn: 237.0000 - fn: 236.0000 - accuracy: 0.7519 - precision: 0.7932 - recall: 0.9063 - auc: 0.7328 - prc: 0.8747 - val_loss: 0.4740 - val_cross entropy: 0.4740 - val_Brier score: 0.1515 - val_tp: 291.0000 - val_fp: 62.0000 - val_tn: 35.0000 - val_fn: 31.0000 - val_accuracy: 0.7780 - val_precision: 0.8244 - val_recall: 0.9037 - val_auc: 0.7457 - val_prc: 0.8675\n",
      "Epoch 8/500\n",
      "105/105 [==============================] - 0s 3ms/step - loss: 0.4893 - cross entropy: 0.4893 - Brier score: 0.1604 - tp: 2255.0000 - fp: 590.0000 - tn: 242.0000 - fn: 263.0000 - accuracy: 0.7454 - precision: 0.7926 - recall: 0.8956 - auc: 0.7475 - prc: 0.8881 - val_loss: 0.4758 - val_cross entropy: 0.4758 - val_Brier score: 0.1528 - val_tp: 285.0000 - val_fp: 63.0000 - val_tn: 34.0000 - val_fn: 37.0000 - val_accuracy: 0.7613 - val_precision: 0.8190 - val_recall: 0.8851 - val_auc: 0.7475 - val_prc: 0.8715\n",
      "Epoch 9/500\n",
      "105/105 [==============================] - 0s 3ms/step - loss: 0.4918 - cross entropy: 0.4918 - Brier score: 0.1606 - tp: 2257.0000 - fp: 580.0000 - tn: 252.0000 - fn: 261.0000 - accuracy: 0.7490 - precision: 0.7956 - recall: 0.8963 - auc: 0.7459 - prc: 0.8842 - val_loss: 0.4689 - val_cross entropy: 0.4689 - val_Brier score: 0.1506 - val_tp: 297.0000 - val_fp: 76.0000 - val_tn: 21.0000 - val_fn: 25.0000 - val_accuracy: 0.7589 - val_precision: 0.7962 - val_recall: 0.9224 - val_auc: 0.7502 - val_prc: 0.8753\n",
      "Epoch 10/500\n",
      "105/105 [==============================] - 0s 3ms/step - loss: 0.4879 - cross entropy: 0.4879 - Brier score: 0.1600 - tp: 2275.0000 - fp: 606.0000 - tn: 226.0000 - fn: 243.0000 - accuracy: 0.7466 - precision: 0.7897 - recall: 0.9035 - auc: 0.7487 - prc: 0.8916 - val_loss: 0.4717 - val_cross entropy: 0.4717 - val_Brier score: 0.1508 - val_tp: 312.0000 - val_fp: 87.0000 - val_tn: 10.0000 - val_fn: 10.0000 - val_accuracy: 0.7685 - val_precision: 0.7820 - val_recall: 0.9689 - val_auc: 0.7508 - val_prc: 0.8743\n",
      "Epoch 11/500\n",
      "105/105 [==============================] - 0s 3ms/step - loss: 0.4886 - cross entropy: 0.4886 - Brier score: 0.1602 - tp: 2263.0000 - fp: 587.0000 - tn: 245.0000 - fn: 255.0000 - accuracy: 0.7487 - precision: 0.7940 - recall: 0.8987 - auc: 0.7463 - prc: 0.8892 - val_loss: 0.4676 - val_cross entropy: 0.4676 - val_Brier score: 0.1508 - val_tp: 278.0000 - val_fp: 57.0000 - val_tn: 40.0000 - val_fn: 44.0000 - val_accuracy: 0.7589 - val_precision: 0.8299 - val_recall: 0.8634 - val_auc: 0.7553 - val_prc: 0.8808\n",
      "Epoch 12/500\n",
      "105/105 [==============================] - 0s 3ms/step - loss: 0.4852 - cross entropy: 0.4852 - Brier score: 0.1588 - tp: 2247.0000 - fp: 579.0000 - tn: 253.0000 - fn: 271.0000 - accuracy: 0.7463 - precision: 0.7951 - recall: 0.8924 - auc: 0.7532 - prc: 0.8917 - val_loss: 0.4869 - val_cross entropy: 0.4869 - val_Brier score: 0.1583 - val_tp: 259.0000 - val_fp: 44.0000 - val_tn: 53.0000 - val_fn: 63.0000 - val_accuracy: 0.7446 - val_precision: 0.8548 - val_recall: 0.8043 - val_auc: 0.7517 - val_prc: 0.8807\n",
      "Epoch 13/500\n",
      "105/105 [==============================] - 0s 2ms/step - loss: 0.4867 - cross entropy: 0.4867 - Brier score: 0.1595 - tp: 2241.0000 - fp: 557.0000 - tn: 275.0000 - fn: 277.0000 - accuracy: 0.7510 - precision: 0.8009 - recall: 0.8900 - auc: 0.7513 - prc: 0.8916 - val_loss: 0.4690 - val_cross entropy: 0.4690 - val_Brier score: 0.1523 - val_tp: 273.0000 - val_fp: 57.0000 - val_tn: 40.0000 - val_fn: 49.0000 - val_accuracy: 0.7470 - val_precision: 0.8273 - val_recall: 0.8478 - val_auc: 0.7528 - val_prc: 0.8883\n",
      "Epoch 14/500\n",
      "105/105 [==============================] - 0s 3ms/step - loss: 0.4777 - cross entropy: 0.4777 - Brier score: 0.1569 - tp: 2290.0000 - fp: 605.0000 - tn: 227.0000 - fn: 228.0000 - accuracy: 0.7513 - precision: 0.7910 - recall: 0.9095 - auc: 0.7623 - prc: 0.8994 - val_loss: 0.4636 - val_cross entropy: 0.4636 - val_Brier score: 0.1508 - val_tp: 275.0000 - val_fp: 56.0000 - val_tn: 41.0000 - val_fn: 47.0000 - val_accuracy: 0.7542 - val_precision: 0.8308 - val_recall: 0.8540 - val_auc: 0.7585 - val_prc: 0.8900\n",
      "Epoch 15/500\n",
      "105/105 [==============================] - 0s 3ms/step - loss: 0.4724 - cross entropy: 0.4724 - Brier score: 0.1553 - tp: 2230.0000 - fp: 539.0000 - tn: 293.0000 - fn: 288.0000 - accuracy: 0.7531 - precision: 0.8053 - recall: 0.8856 - auc: 0.7681 - prc: 0.9041 - val_loss: 0.4562 - val_cross entropy: 0.4562 - val_Brier score: 0.1486 - val_tp: 301.0000 - val_fp: 78.0000 - val_tn: 19.0000 - val_fn: 21.0000 - val_accuracy: 0.7637 - val_precision: 0.7942 - val_recall: 0.9348 - val_auc: 0.7631 - val_prc: 0.9011\n",
      "Epoch 16/500\n",
      "105/105 [==============================] - 0s 2ms/step - loss: 0.4782 - cross entropy: 0.4782 - Brier score: 0.1574 - tp: 2300.0000 - fp: 594.0000 - tn: 238.0000 - fn: 218.0000 - accuracy: 0.7576 - precision: 0.7947 - recall: 0.9134 - auc: 0.7594 - prc: 0.9015 - val_loss: 0.4574 - val_cross entropy: 0.4574 - val_Brier score: 0.1497 - val_tp: 287.0000 - val_fp: 66.0000 - val_tn: 31.0000 - val_fn: 35.0000 - val_accuracy: 0.7589 - val_precision: 0.8130 - val_recall: 0.8913 - val_auc: 0.7647 - val_prc: 0.9110\n",
      "Epoch 17/500\n",
      "105/105 [==============================] - 0s 3ms/step - loss: 0.4700 - cross entropy: 0.4700 - Brier score: 0.1551 - tp: 2272.0000 - fp: 567.0000 - tn: 265.0000 - fn: 246.0000 - accuracy: 0.7573 - precision: 0.8003 - recall: 0.9023 - auc: 0.7700 - prc: 0.9078 - val_loss: 0.4553 - val_cross entropy: 0.4553 - val_Brier score: 0.1492 - val_tp: 306.0000 - val_fp: 90.0000 - val_tn: 7.0000 - val_fn: 16.0000 - val_accuracy: 0.7470 - val_precision: 0.7727 - val_recall: 0.9503 - val_auc: 0.7609 - val_prc: 0.9092\n",
      "Epoch 18/500\n",
      "105/105 [==============================] - 0s 2ms/step - loss: 0.4681 - cross entropy: 0.4681 - Brier score: 0.1542 - tp: 2303.0000 - fp: 587.0000 - tn: 245.0000 - fn: 215.0000 - accuracy: 0.7606 - precision: 0.7969 - recall: 0.9146 - auc: 0.7733 - prc: 0.9076 - val_loss: 0.4538 - val_cross entropy: 0.4538 - val_Brier score: 0.1489 - val_tp: 292.0000 - val_fp: 73.0000 - val_tn: 24.0000 - val_fn: 30.0000 - val_accuracy: 0.7542 - val_precision: 0.8000 - val_recall: 0.9068 - val_auc: 0.7625 - val_prc: 0.9120\n",
      "Epoch 19/500\n",
      "105/105 [==============================] - 0s 3ms/step - loss: 0.4719 - cross entropy: 0.4719 - Brier score: 0.1548 - tp: 2273.0000 - fp: 577.0000 - tn: 255.0000 - fn: 245.0000 - accuracy: 0.7546 - precision: 0.7975 - recall: 0.9027 - auc: 0.7692 - prc: 0.9038 - val_loss: 0.4564 - val_cross entropy: 0.4564 - val_Brier score: 0.1491 - val_tp: 292.0000 - val_fp: 71.0000 - val_tn: 26.0000 - val_fn: 30.0000 - val_accuracy: 0.7589 - val_precision: 0.8044 - val_recall: 0.9068 - val_auc: 0.7621 - val_prc: 0.9088\n",
      "Epoch 20/500\n",
      "105/105 [==============================] - 0s 2ms/step - loss: 0.4701 - cross entropy: 0.4701 - Brier score: 0.1538 - tp: 2270.0000 - fp: 562.0000 - tn: 270.0000 - fn: 248.0000 - accuracy: 0.7582 - precision: 0.8016 - recall: 0.9015 - auc: 0.7738 - prc: 0.9030 - val_loss: 0.4541 - val_cross entropy: 0.4541 - val_Brier score: 0.1497 - val_tp: 296.0000 - val_fp: 81.0000 - val_tn: 16.0000 - val_fn: 26.0000 - val_accuracy: 0.7446 - val_precision: 0.7851 - val_recall: 0.9193 - val_auc: 0.7633 - val_prc: 0.9150\n",
      "Epoch 21/500\n",
      "105/105 [==============================] - 0s 2ms/step - loss: 0.4678 - cross entropy: 0.4678 - Brier score: 0.1537 - tp: 2297.0000 - fp: 590.0000 - tn: 242.0000 - fn: 221.0000 - accuracy: 0.7579 - precision: 0.7956 - recall: 0.9122 - auc: 0.7748 - prc: 0.9074 - val_loss: 0.4517 - val_cross entropy: 0.4517 - val_Brier score: 0.1490 - val_tp: 286.0000 - val_fp: 73.0000 - val_tn: 24.0000 - val_fn: 36.0000 - val_accuracy: 0.7399 - val_precision: 0.7967 - val_recall: 0.8882 - val_auc: 0.7677 - val_prc: 0.9189\n",
      "Epoch 22/500\n",
      " 91/105 [=========================>....] - ETA: 0s - loss: 0.4578 - cross entropy: 0.4578 - Brier score: 0.1513 - tp: 1984.0000 - fp: 491.0000 - tn: 218.0000 - fn: 219.0000 - accuracy: 0.7562 - precision: 0.8016 - recall: 0.9006 - auc: 0.7797 - prc: 0.9169Restoring model weights from the end of the best epoch: 12.\n",
      "105/105 [==============================] - 0s 3ms/step - loss: 0.4648 - cross entropy: 0.4648 - Brier score: 0.1540 - tp: 2255.0000 - fp: 574.0000 - tn: 258.0000 - fn: 263.0000 - accuracy: 0.7501 - precision: 0.7971 - recall: 0.8956 - auc: 0.7756 - prc: 0.9133 - val_loss: 0.4502 - val_cross entropy: 0.4502 - val_Brier score: 0.1493 - val_tp: 275.0000 - val_fp: 60.0000 - val_tn: 37.0000 - val_fn: 47.0000 - val_accuracy: 0.7446 - val_precision: 0.8209 - val_recall: 0.8540 - val_auc: 0.7754 - val_prc: 0.9263\n",
      "Epoch 22: early stopping\n"
     ]
    }
   ],
   "source": [
    "# Training the model\n",
    "model = make_model(X_train)\n",
    "model_history = model.fit(\n",
    "    X_train,\n",
    "    y_train,\n",
    "    batch_size=BATCH_SIZE,\n",
    "    epochs=EPOCHS,\n",
    "    callbacks=[early_stopping],\n",
    "    validation_data=(X_val, y_val),\n",
    ")"
   ]
  },
  {
   "cell_type": "markdown",
   "metadata": {},
   "source": [
    "### Evaluation"
   ]
  },
  {
   "cell_type": "code",
   "execution_count": 47,
   "metadata": {},
   "outputs": [
    {
     "name": "stdout",
     "output_type": "stream",
     "text": [
      "14/14 [==============================] - 0s 646us/step\n",
      "Accuracy: 0.7040572792362768\n",
      "Precision: 0.8197879858657244\n",
      "Recall: 0.760655737704918\n",
      "F1 Score: 0.7891156462585034\n"
     ]
    }
   ],
   "source": [
    "predictions = model.predict(X_test)\n",
    "predictions = (predictions > 0.5).astype('int')  # Convert probabilities to 0 or 1 based on a threshold of 0.5\n",
    "\n",
    "accuracy = accuracy_score(y_test, predictions)\n",
    "precision = precision_score(y_test, predictions)\n",
    "recall = recall_score(y_test, predictions)\n",
    "f1 = f1_score(y_test, predictions)\n",
    "\n",
    "print(f\"Accuracy: {accuracy}\")\n",
    "print(f\"Precision: {precision}\")\n",
    "print(f\"Recall: {recall}\")\n",
    "print(f\"F1 Score: {f1}\")"
   ]
  },
  {
   "cell_type": "markdown",
   "metadata": {},
   "source": [
    "## Final Comparative Analysis\n",
    "\n",
    "We'll briefly compare the GNB results with our neural net.\n",
    "\n",
    "### Results:\n",
    "GNB Binary:\n",
    "- Accuracy: 0.6842105263157895\n",
    "- Precision: 0.6739323055112528\n",
    "- Recall: 0.6842105263157895\n",
    "- F1 Score: 0.6771255060728746\n",
    "\n",
    "GNB Binary with augmented data:\n",
    "- Accuracy: 0.7255369928400954\n",
    "- Precision: 0.7298890741720154\n",
    "- Recall: 0.7255369928400954\n",
    "- F1 Score: 0.7276105008806703\n",
    "\n",
    "Neural Net Binary:\n",
    "- Accuracy: 0.5789473684210527\n",
    "- Precision: 0.5555555555555556\n",
    "- Recall: 1.0\n",
    "- F1 Score: 0.7142857142857143\n",
    "\n",
    "Neural Net Binary with augmented data:\n",
    "- Accuracy: 0.7040572792362768\n",
    "- Precision: 0.8197879858657244\n",
    "- Recall: 0.760655737704918\n",
    "- F1 Score: 0.7891156462585034\n",
    "\n",
    "|           \t| GNB Bin. \t| GNB Bin. Aug. \t| NN Bin. \t| NN Bin. Aug. \t|\n",
    "|-----------\t|----------\t|---------------\t|---------\t|--------------\t|\n",
    "| Accuracy  \t| 0.6842   \t| 0.7256        \t| 0.5789  \t| 0.7041       \t|\n",
    "| Precision \t| 0.6739   \t| 0.7299        \t| 0.5556  \t| 0.8198       \t|\n",
    "| Recall    \t| 0.6842   \t| 0.7255        \t| 1       \t| 0.7606       \t|\n",
    "| F1        \t| 0.6771   \t| 0.7276        \t| 0.7143  \t| 0.7891       \t|\n",
    "\n",
    "The GNB still performs better than the neural net, even on augmented data. "
   ]
  }
 ],
 "metadata": {
  "kernelspec": {
   "display_name": "tf-audio",
   "language": "python",
   "name": "python3"
  },
  "language_info": {
   "codemirror_mode": {
    "name": "ipython",
    "version": 3
   },
   "file_extension": ".py",
   "mimetype": "text/x-python",
   "name": "python",
   "nbconvert_exporter": "python",
   "pygments_lexer": "ipython3",
   "version": "3.11.9"
  }
 },
 "nbformat": 4,
 "nbformat_minor": 2
}
