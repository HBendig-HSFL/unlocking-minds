{
 "cells": [
  {
   "cell_type": "markdown",
   "metadata": {},
   "source": [
    "# Exploratory Data Analysis (EDA)\n",
    "\n",
    "## Table of Contents\n",
    "1. [Dataset Overview](#dataset-overview)\n",
    "2. [Handling Missing Values](#handling-missing-values)\n",
    "3. [Feature Distributions](#feature-distributions)\n",
    "4. [Possible Biases](#possible-biases)\n",
    "5. [Correlations](#correlations)\n"
   ]
  },
  {
   "metadata": {},
   "cell_type": "markdown",
   "source": ""
  },
  {
   "cell_type": "markdown",
   "metadata": {},
   "source": [
    ". [Correlations](#correlations)\n"
   ]
  },
  {
   "cell_type": "code",
   "metadata": {
    "ExecuteTime": {
     "end_time": "2024-05-22T13:34:19.119917Z",
     "start_time": "2024-05-22T13:34:19.116699Z"
    }
   },
   "source": [
    "# Import necessary libraries\n",
    "import pandas as pd\n",
    "import numpy as np\n",
    "import matplotlib.pyplot as plt\n",
    "import seaborn as sns\n",
    "import pandas as pd\n"
   ],
   "outputs": [],
   "execution_count": 3
  },
  {
   "metadata": {},
   "cell_type": "markdown",
   "source": "# Load Data"
  },
  {
   "metadata": {
    "ExecuteTime": {
     "end_time": "2024-05-22T13:35:39.170351Z",
     "start_time": "2024-05-22T13:35:39.162788Z"
    }
   },
   "cell_type": "code",
   "source": [
    "# Variables\n",
    "data_path = '../Data/'\n",
    "\n",
    "# Load data\n",
    "participant_list = pd.read_csv(data_path + 'participants.csv')\n",
    "print(participant_list.head())"
   ],
   "outputs": [
    {
     "name": "stdout",
     "output_type": "stream",
     "text": [
      "   ID  VisualAcuity_logMAR_ Gender  Age  Education\n",
      "0   1                 -0.04      F   28         18\n",
      "1   2                 -0.10      F   28         18\n",
      "2   3                 -0.08      F   38         16\n",
      "3   4                 -0.07      F   29         18\n",
      "4   5                 -0.15      M   30         18\n"
     ]
    }
   ],
   "execution_count": 7
  },
  {
   "metadata": {
    "ExecuteTime": {
     "end_time": "2024-05-22T13:35:44.128466Z",
     "start_time": "2024-05-22T13:35:44.040590Z"
    }
   },
   "cell_type": "code",
   "source": [
    "\n",
    "participant_number = 1\n",
    "test_number = 1\n",
    "\n",
    "path_to_participant = data_path + 'Participant_' + str(participant_number) \n",
    "path_to_test = path_to_participant + '/Test' + str(test_number) + '/'\n",
    "path_to_annotations = path_to_test + 'Participant_' + str(participant_number) + '_Annotations_' + str(test_number) + '.csv'\n",
    "path_to_blinks = path_to_test + 'Participant_' + str(participant_number) + '_Blinks_' + str(test_number) + '.csv'\n",
    "path_to_gaze = path_to_test + 'Participant_' + str(participant_number) + '_Gaze_' + str(test_number) + '.csv'\n",
    "path_to_pupil = path_to_test + 'Participant_' + str(participant_number) + '_Pupil_' + str(test_number) + '.csv'\n",
    "\n",
    "test1_participant1_annotations = pd.read_csv(path_to_annotations)\n",
    "test1_participant1_blinks = pd.read_csv(path_to_blinks)\n",
    "test1_participant1_gaze = pd.read_csv(path_to_gaze)\n",
    "test1_participant1_pupil = pd.read_csv(path_to_pupil)"
   ],
   "outputs": [],
   "execution_count": 8
  },
  {
   "cell_type": "markdown",
   "metadata": {},
   "source": [
    "## Dataset Overview\n",
    "\n",
    "[Provide a high-level overview of the dataset. This should include the source of the dataset, the number of samples, the number of features, and example showing the structure of the dataset.]\n"
   ]
  },
  {
   "cell_type": "code",
   "execution_count": null,
   "metadata": {},
   "outputs": [],
   "source": [
    "\n",
    "# Load the data\n",
    "# Replace 'your_dataset.csv' with the path to your actual dataset\n",
    "df = pd.read_csv('your_dataset.csv')\n",
    "\n",
    "# Number of samples\n",
    "num_samples = df.shape[0]\n",
    "\n",
    "# Number of features\n",
    "num_features = df.shape[1]\n",
    "\n",
    "# Display these dataset characteristics\n",
    "print(f\"Number of samples: {num_samples}\")\n",
    "print(f\"Number of features: {num_features}\")\n",
    "\n",
    "# Display the first few rows of the dataframe to show the structure\n",
    "print(\"Example data:\")\n",
    "print(df.head())\n",
    "\n"
   ]
  },
  {
   "cell_type": "markdown",
   "metadata": {},
   "source": [
    "## Handling Missing Values\n",
    "\n",
    "[Identify any missing values in the dataset, and describe your approach to handle them if there are any. If there are no missing values simply indicate that there are none.]\n"
   ]
  },
  {
   "cell_type": "code",
   "execution_count": null,
   "metadata": {},
   "outputs": [],
   "source": [
    "# Check for missing values\n",
    "missing_values = df.isnull().sum()\n",
    "missing_values\n"
   ]
  },
  {
   "cell_type": "code",
   "execution_count": null,
   "metadata": {},
   "outputs": [],
   "source": [
    "# Handling missing values\n",
    "# Example: Replacing NaN values with the mean value of the column\n",
    "# df.fillna(df.mean(), inplace=True)\n",
    "\n",
    "# Your code for handling missing values goes here\n"
   ]
  },
  {
   "cell_type": "markdown",
   "metadata": {},
   "source": [
    "## Feature Distributions\n",
    "\n",
    "[Plot the distribution of various features and target variables. Comment on the skewness, outliers, or any other observations.]\n"
   ]
  },
  {
   "cell_type": "code",
   "execution_count": null,
   "metadata": {},
   "outputs": [],
   "source": [
    "# Example: Plotting histograms of all numerical features\n",
    "df.hist(figsize=(12, 12))\n",
    "plt.show()\n"
   ]
  },
  {
   "cell_type": "markdown",
   "metadata": {},
   "source": [
    "## Possible Biases\n",
    "\n",
    "[Investigate the dataset for any biases that could affect the model’s performance and fairness (e.g., class imbalance, historical biases).]\n"
   ]
  },
  {
   "cell_type": "code",
   "execution_count": null,
   "metadata": {},
   "outputs": [],
   "source": [
    "# Example: Checking for class imbalance in a classification problem\n",
    "# sns.countplot(x='target_variable', data=df)\n",
    "\n",
    "# Your code to investigate possible biases goes here\n"
   ]
  },
  {
   "cell_type": "markdown",
   "metadata": {},
   "source": [
    "## Correlations\n",
    "\n",
    "[Explore correlations between features and the target variable, as well as among features themselves.]\n"
   ]
  },
  {
   "cell_type": "code",
   "execution_count": null,
   "metadata": {},
   "outputs": [],
   "source": [
    "# Example: Plotting a heatmap to show feature correlations\n",
    "correlation_matrix = df.corr()\n",
    "sns.heatmap(correlation_matrix, annot=True)\n",
    "plt.show()\n"
   ]
  }
 ],
 "metadata": {
  "kernelspec": {
   "display_name": "Python 3",
   "language": "python",
   "name": "python3"
  },
  "language_info": {
   "name": "python",
   "version": "3.8.0"
  }
 },
 "nbformat": 4,
 "nbformat_minor": 2
}
